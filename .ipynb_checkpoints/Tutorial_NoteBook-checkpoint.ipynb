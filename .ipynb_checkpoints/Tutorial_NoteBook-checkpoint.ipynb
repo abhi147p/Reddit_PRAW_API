{
 "cells": [
  {
   "cell_type": "markdown",
   "id": "2b414dab",
   "metadata": {},
   "source": [
    "# Reddit Data Extraction:\n",
    "---\n",
    "\n",
    "This notebook is a reference notebook with syntax and usage examples. <br>\n",
    "This Notebook is derived from the [Reddit API PRAW](https://praw.readthedocs.io/en/stable/) <br>\n",
    "\n",
    "Reddit is an American social news aggregation, content rating, and discussion website.<br> Registered users can submit content to the site such as links, text posts, images, and videos, which are then voted up or down by other members.\n",
    "\n",
    "### Table of Contents\n",
    "\n",
    "* [Basic terms](#Basic-terms-in-Reddit)\n",
    "* [Create Reddit Account](#Create-Reddit-Account)\n",
    "* [Create Application](#Create-Application)\n",
    "  * [Register process](#Register-process)\n",
    "* [PRAW](#PRAW)\n",
    "    * [Reddit-Login](#Login-to-Reddit)\n",
    "    * [User Name](#UserName)\n",
    "    * [Read Only](#Read-Only)\n",
    "    * [SubReddit](#SubReddit)\n",
    "    * [Ways to sort submissions](#Ways-to-sort-submissions)\n",
    "      * [Rising](#Rising)\n",
    "      * [Controversial](#Controversial)\n",
    "      * [New](#New)\n",
    "      * [Top](#Top)\n",
    "      * [Hot](#Hot)\n",
    "    * [Upvote Ratio](#Upvote-Ratio)\n",
    "    * [Search Query](#Search-query)\n",
    "    * [Comment](#Comment)\n",
    "    * [Submission](#Submission)\n",
    "    * [Post Score](#Post-Score)\n",
    "    * [Access Redditor](#Access-Redditor)\n",
    "* [Creating DataSet using PRAW data](#Creating-dataset-using-praw-data)\n",
    "* [Visualizing Reddit DATA](#Visualizing-Reddit-DATA)\n",
    "  * [Scatter Plot](#Scatter-Plot)\n",
    "  * [Bar Chart](#Bar-Chart)\n",
    "  * [Pie Chart](#Pie-Chart)\n",
    "* [Conclusion](#Conclusion)"
   ]
  },
  {
   "cell_type": "markdown",
   "id": "3d0f76c6",
   "metadata": {},
   "source": [
    "## Basic terms in Reddit\n",
    "<div style=\"text-align:right\"><a href=\"#Table-of-Contents\">[toc]</a></div>\n",
    "\n",
    "* `u/` is used for `username`\n",
    "* `r/` is used for `subreddit`\n",
    "\n",
    "* `Subreddit` is a specific forum on Reddit where users can submit posts about a particular topic. For example it can be referred to [raw_dataset](https://www.reddit.com/r/datasets/comments/yngsnt/is_there_a_database_containing_the_raw/) and others like r/funny is a subreddit devoted to funny content, while r/news is a subreddit devoted to news articles.\n",
    "\n",
    "* Reddit `karma` is like a user's score, totaling their amount of upvotes against their downvotes\n",
    "\n",
    "* A `user agent` is a unique identifier that helps Reddit determine the source of network requests.\n",
    "\n",
    "There are many other terms used for reddit. See [here](https://www.reddit.com/r/TheoryOfReddit/wiki/glossary/) to learn more"
   ]
  },
  {
   "cell_type": "markdown",
   "id": "4747f3ce",
   "metadata": {},
   "source": [
    "## Create Reddit Account\n",
    "<div style=\"text-align:right\"><a href=\"#Table-of-Contents\">[toc]</a></div>\n",
    "Before we start working on extracting the data from Reddit. It is necessary for the user to have an account gets created in Reddit. <br>\n",
    "\n",
    "You can sign up to `Reddit` account, by providing a valid `email address`. With help of [Reddit](https://www.reddit.com/) <br>\n",
    "Then provide valid `username` and strong `password`. Also you can follow the username and password suggested by reddit.<br>\n",
    "\n",
    "Then login into your account and Done."
   ]
  },
  {
   "cell_type": "markdown",
   "id": "ae5ef469",
   "metadata": {},
   "source": [
    "## Create Application\n",
    "<div style=\"text-align:right\"><a href=\"#Table-of-Contents\">[toc]</a></div>\n",
    "\n",
    "To implement our extracting data through Reddit, we need to register an application, through which we can get access to Reddit website, with help of `client_id` and `client_secret`.\n",
    "\n",
    "We can register an application by using [reddit-apps](https://www.reddit.com/prefs/apps). \n",
    "\n",
    "We have three different kind of applications:\n",
    "\n",
    "* Web based Application\n",
    "* Installed Application\n",
    "* Script Application\n",
    "   \n",
    "Before you can use any one of these in implementation , you must first register an application of the appropriate type on Reddit. \n",
    "\n",
    "### Register process\n",
    "<div style=\"text-align:right\"><a href=\"#Table-of-Contents\">[toc]</a></div>\n",
    "\n",
    "* Click on `are you a developer? create an app…`\n",
    "* provide `name` for the app\n",
    "* select either `web based` or `script`\n",
    "* `description` and `about-url` are optional fields\n",
    "* provide the valid-url for redirect in `redirect-uri`\n",
    "\n",
    "Hence Application gets created. It contains some of fields that are used for login to reddit through code.\n",
    "\n",
    "They are\n",
    "* **client_id**: It is at least a 14-character string listed just under “personal use script” for the desired developed application.\n",
    "* **client_secret**: It is at least a 27-character string listed adjacent to secret for the application.\n",
    "\n",
    "For `script-app` based, `client-id` present under `personal use script` and `client-secret` is displayed with `secret` key.\n",
    "\n",
    "For `web-app` based, `client-id` present under `web app` and `client-secret` is displayed with `secret` key.\n",
    "\n",
    "You can see the blue color marked(striked) ones.\n",
    "\n",
    "It looks like below image. ![Reddit-Application](./reddit_app.png)"
   ]
  },
  {
   "cell_type": "markdown",
   "id": "a23c397a",
   "metadata": {},
   "source": [
    "Hence, as of now, we have created everything and obtained the keys that we needed. Now lets dive into Implementation."
   ]
  },
  {
   "cell_type": "markdown",
   "id": "9ea1acf3",
   "metadata": {},
   "source": [
    "## PRAW\n",
    "<div style=\"text-align:right\"><a href=\"#Table-of-Contents\">[toc]</a></div>\n",
    "\n",
    "The module that we are going to use for extracting the data from Reddit is `PRAW`.\n",
    "\n",
    "`PRAW` (`Python Reddit API Wrapper`) is a Python module that provides a simple access to Reddit's API. `PRAW` is easy to use and follows all of Reddit's API rules.\n",
    "\n",
    "To install PRAW, we run the following pip script on the terminal / command prompt. `pip install praw`\n",
    "\n",
    "Install according to version of pip or pip3.\n",
    "\n",
    "Can be Upgraded with the help of command: `pip install --upgrade praw`"
   ]
  },
  {
   "cell_type": "markdown",
   "id": "1f13b402",
   "metadata": {},
   "source": [
    "Now as we have our `praw` module. Lets import and work on it."
   ]
  },
  {
   "cell_type": "code",
   "execution_count": 1,
   "id": "a7e656be",
   "metadata": {},
   "outputs": [],
   "source": [
    "import praw"
   ]
  },
  {
   "cell_type": "markdown",
   "id": "f93616b9",
   "metadata": {},
   "source": [
    "### Login to Reddit\n",
    "<div style=\"text-align:right\"><a href=\"#Table-of-Contents\">[toc]</a></div>\n",
    "\n",
    "To login, we have different methods, such as\n",
    "\n",
    "* Password Flow\n",
    "* 2 Factor Authentication (2FA) Flow\n",
    "* Code Flow\n",
    "\n",
    "Here, we will be using Password flow, See [here](https://praw.readthedocs.io/en/stable/getting_started/authentication.html) to know about other methods for deeper understanding.\n",
    "\n",
    "**Syntax**:\n",
    "\n",
    "reddit = praw.Reddit(\n",
    "\n",
    "    client_id=\"\",\n",
    "    client_secret=\"\",\n",
    "    password=\"\",\n",
    "    user_agent=\"<platform>:<app ID>:<version string> (by u/<Reddit username>)\",\n",
    "    username=\"\",\n",
    ")"
   ]
  },
  {
   "cell_type": "code",
   "execution_count": 2,
   "id": "1913ac58",
   "metadata": {},
   "outputs": [],
   "source": [
    "# To get authorized application\n",
    "reddit = praw.Reddit(\n",
    "    client_id=\"***********client_id********************\",\n",
    "    client_secret=\"***-*****client_secret********************\",\n",
    "    password=\"*****password********\",\n",
    "    user_agent=\"testscript by u/*******username********\", #here for default we can use testscript\n",
    "    username=\"*******username********\",\n",
    ")"
   ]
  },
  {
   "cell_type": "markdown",
   "id": "e70f18fc",
   "metadata": {},
   "source": [
    "### UserName\n",
    "<div style=\"text-align:right\"><a href=\"#Table-of-Contents\">[toc]</a></div>"
   ]
  },
  {
   "cell_type": "code",
   "execution_count": 3,
   "id": "cb0b544e",
   "metadata": {},
   "outputs": [
    {
     "data": {
      "text/plain": [
       "Redditor(name='Abhishek_Abhi147')"
      ]
     },
     "execution_count": 3,
     "metadata": {},
     "output_type": "execute_result"
    }
   ],
   "source": [
    "reddit.user.me()"
   ]
  },
  {
   "cell_type": "code",
   "execution_count": 4,
   "id": "a5f6ec3c",
   "metadata": {},
   "outputs": [],
   "source": [
    "# To get read_only application, we exclude username and password\n",
    "reddit_read_only = praw.Reddit(\n",
    "    client_id=\"**********client_id*****************\",\n",
    "    client_secret=\"***-********client_Secret*******************\",\n",
    "    user_agent=\"testscript by u/*********username************\"\n",
    ")"
   ]
  },
  {
   "cell_type": "code",
   "execution_count": 5,
   "id": "799e5db0",
   "metadata": {},
   "outputs": [],
   "source": [
    "reddit_read_only.user.me()"
   ]
  },
  {
   "cell_type": "markdown",
   "id": "51a94f7d",
   "metadata": {},
   "source": [
    "### Read Only\n",
    "<div style=\"text-align:right\"><a href=\"#Table-of-Contents\">[toc]</a></div>"
   ]
  },
  {
   "cell_type": "code",
   "execution_count": 6,
   "id": "0c5f9c4b",
   "metadata": {},
   "outputs": [
    {
     "data": {
      "text/plain": [
       "True"
      ]
     },
     "execution_count": 6,
     "metadata": {},
     "output_type": "execute_result"
    }
   ],
   "source": [
    "reddit_read_only.read_only # We can see, this value will be true."
   ]
  },
  {
   "cell_type": "code",
   "execution_count": 7,
   "id": "5b64efb1",
   "metadata": {},
   "outputs": [
    {
     "data": {
      "text/plain": [
       "False"
      ]
     },
     "execution_count": 7,
     "metadata": {},
     "output_type": "execute_result"
    }
   ],
   "source": [
    "reddit.read_only # It will be False, as we have authorized application and can edit."
   ]
  },
  {
   "cell_type": "code",
   "execution_count": 8,
   "id": "59318658",
   "metadata": {},
   "outputs": [
    {
     "data": {
      "text/plain": [
       "True"
      ]
     },
     "execution_count": 8,
     "metadata": {},
     "output_type": "execute_result"
    }
   ],
   "source": [
    "# read only can be manipulated as\n",
    "reddit.read_only=True\n",
    "reddit.read_only"
   ]
  },
  {
   "cell_type": "markdown",
   "id": "283e6478",
   "metadata": {},
   "source": [
    "If we try to give access to reddit_read_only, it gives us `error`. As it is in read_only mode.\n",
    "\n",
    "We can see the below example."
   ]
  },
  {
   "cell_type": "code",
   "execution_count": 9,
   "id": "825a449b",
   "metadata": {},
   "outputs": [
    {
     "ename": "ClientException",
     "evalue": "read_only cannot be unset as only the ReadOnlyAuthorizer is available.",
     "output_type": "error",
     "traceback": [
      "\u001b[1;31m---------------------------------------------------------------------------\u001b[0m",
      "\u001b[1;31mClientException\u001b[0m                           Traceback (most recent call last)",
      "Input \u001b[1;32mIn [9]\u001b[0m, in \u001b[0;36m<cell line: 2>\u001b[1;34m()\u001b[0m\n\u001b[0;32m      1\u001b[0m \u001b[38;5;66;03m# if we try to give access to reddit_read_only, it gives us error. As it is only for read_only mode\u001b[39;00m\n\u001b[1;32m----> 2\u001b[0m reddit_read_only\u001b[38;5;241m.\u001b[39mread_only\u001b[38;5;241m=\u001b[39m\u001b[38;5;28;01mFalse\u001b[39;00m\n",
      "File \u001b[1;32mC:\\ProgramData\\Anaconda3\\lib\\site-packages\\praw\\reddit.py:110\u001b[0m, in \u001b[0;36mReddit.read_only\u001b[1;34m(self, value)\u001b[0m\n\u001b[0;32m    108\u001b[0m     \u001b[38;5;28mself\u001b[39m\u001b[38;5;241m.\u001b[39m_core \u001b[38;5;241m=\u001b[39m \u001b[38;5;28mself\u001b[39m\u001b[38;5;241m.\u001b[39m_read_only_core\n\u001b[0;32m    109\u001b[0m \u001b[38;5;28;01melif\u001b[39;00m \u001b[38;5;28mself\u001b[39m\u001b[38;5;241m.\u001b[39m_authorized_core \u001b[38;5;129;01mis\u001b[39;00m \u001b[38;5;28;01mNone\u001b[39;00m:\n\u001b[1;32m--> 110\u001b[0m     \u001b[38;5;28;01mraise\u001b[39;00m ClientException(\n\u001b[0;32m    111\u001b[0m         \u001b[38;5;124m\"\u001b[39m\u001b[38;5;124mread_only cannot be unset as only the ReadOnlyAuthorizer is available.\u001b[39m\u001b[38;5;124m\"\u001b[39m\n\u001b[0;32m    112\u001b[0m     )\n\u001b[0;32m    113\u001b[0m \u001b[38;5;28;01melse\u001b[39;00m:\n\u001b[0;32m    114\u001b[0m     \u001b[38;5;28mself\u001b[39m\u001b[38;5;241m.\u001b[39m_core \u001b[38;5;241m=\u001b[39m \u001b[38;5;28mself\u001b[39m\u001b[38;5;241m.\u001b[39m_authorized_core\n",
      "\u001b[1;31mClientException\u001b[0m: read_only cannot be unset as only the ReadOnlyAuthorizer is available."
     ]
    }
   ],
   "source": [
    "# if we try to give access to reddit_read_only, it gives us error. As it is only for read_only mode\n",
    "reddit_read_only.read_only=False"
   ]
  },
  {
   "cell_type": "code",
   "execution_count": 10,
   "id": "a4b2e1a1",
   "metadata": {},
   "outputs": [
    {
     "data": {
      "text/plain": [
       "False"
      ]
     },
     "execution_count": 10,
     "metadata": {},
     "output_type": "execute_result"
    }
   ],
   "source": [
    "#Rolling back the read_only for reddit\n",
    "reddit.read_only=False\n",
    "reddit.read_only"
   ]
  },
  {
   "cell_type": "markdown",
   "id": "ae3d3997",
   "metadata": {},
   "source": [
    "### SubReddit\n",
    "<div style=\"text-align:right\"><a href=\"#Table-of-Contents\">[toc]</a></div>\n",
    "Now, we will try to fetch the data from reddit of particular subreddit.\n",
    "\n",
    "**Syntax**:\n",
    "\n",
    "subreddit = reddit.subreddit(subreddit_value)"
   ]
  },
  {
   "cell_type": "code",
   "execution_count": 11,
   "id": "4389b36a",
   "metadata": {},
   "outputs": [
    {
     "name": "stdout",
     "output_type": "stream",
     "text": [
      "Title: Machine Learning, display_name: MachineLearning\n",
      "\n",
      "**[Rules For Posts](https://www.reddit.com/r/MachineLearning/about/rules/)**\n",
      "--------\n",
      "+[Research](https://www.reddit.com/r/MachineLearning/search?sort=new&restrict_sr=on&q=flair%3AResearch)\n",
      "--------\n",
      "+[Discussion](https://www.reddit.com/r/MachineLearning/search?sort=new&restrict_sr=on&q=flair%3ADiscussion)\n",
      "--------\n",
      "+[Project](https://www.reddit.com/r/MachineLearning/search?sort=new&restrict_sr=on&q=flair%3AProject)\n",
      "--------\n",
      "+[News](https://www.reddit.com/r/MachineLearning/search?sort=new&restrict_sr=on&q=flair%3ANews)\n",
      "--------\n",
      "***[@slashML on Twitter](https://twitter.com/slashML)***\n",
      "--------\n",
      "***[Chat with us on Slack](https://join.slack.com/t/rml-talk/shared_invite/enQtNjkyMzI3NjA2NTY2LWY0ZmRjZjNhYjI5NzYwM2Y0YzZhZWNiODQ3ZGFjYmI2NTU3YjE1ZDU5MzM2ZTQ4ZGJmOTFmNWVkMzFiMzVhYjg)***\n",
      "--------\n",
      "**Beginners:**\n",
      "--------\n",
      "Please have a look at [our FAQ and Link-Collection](http://www.reddit.com/r/MachineLearning/wiki/index)\n",
      "\n",
      "[Metacademy](http://www.metacademy.org) is a great resource which compiles lesson plans on popular machine learning topics.\n",
      "\n",
      "For Beginner questions please try /r/LearnMachineLearning , /r/MLQuestions or http://stackoverflow.com/\n",
      "\n",
      "For career related questions, visit /r/cscareerquestions/\n",
      "\n",
      "--------\n",
      "\n",
      "[Advanced Courses (2016)](https://www.reddit.com/r/MachineLearning/comments/51qhc8/phdlevel_courses?st=isz2lqdk&sh=56c58cd6)\n",
      "\n",
      "[Advanced Courses (2020)](https://www.reddit.com/r/MachineLearning/comments/fdw0ax/d_advanced_courses_update/)\n",
      "\n",
      "--------\n",
      "**AMAs:**\n",
      "\n",
      "[Pluribus Poker AI Team 7/19/2019](https://www.reddit.com/r/MachineLearning/comments/ceece3/ama_we_are_noam_brown_and_tuomas_sandholm/)\n",
      "\n",
      "[DeepMind AlphaStar team (1/24//2019)](https://www.reddit.com/r/MachineLearning/comments/ajgzoc/we_are_oriol_vinyals_and_david_silver_from/)\n",
      "\n",
      "[Libratus Poker AI Team (12/18/2017)]\n",
      "(https://www.reddit.com/r/MachineLearning/comments/7jn12v/ama_we_are_noam_brown_and_professor_tuomas/)\n",
      "\n",
      "[DeepMind AlphaGo Team (10/19/2017)](https://www.reddit.com/r/MachineLearning/comments/76xjb5/ama_we_are_david_silver_and_julian_schrittwieser/)\n",
      "\n",
      "[Google Brain Team (9/17/2017)](https://www.reddit.com/r/MachineLearning/comments/6z51xb/we_are_the_google_brain_team_wed_love_to_answer/)\n",
      "\n",
      "[Google Brain Team (8/11/2016)]\n",
      "(https://www.reddit.com/r/MachineLearning/comments/4w6tsv/ama_we_are_the_google_brain_team_wed_love_to/)\n",
      "\n",
      "[The MalariaSpot Team (2/6/2016)](https://www.reddit.com/r/MachineLearning/comments/4m7ci1/ama_the_malariaspot_team/)\n",
      "\n",
      "[OpenAI Research Team (1/9/2016)](http://www.reddit.com/r/MachineLearning/comments/404r9m/ama_the_openai_research_team/)\n",
      "\n",
      "[Nando de Freitas (12/26/2015)](http://www.reddit.com/r/MachineLearning/comments/3y4zai/ama_nando_de_freitas/)\n",
      "\n",
      "[Andrew Ng and Adam Coates (4/15/2015)](http://www.reddit.com/r/MachineLearning/comments/32ihpe/ama_andrew_ng_and_adam_coates/)\n",
      "\n",
      "[Jürgen Schmidhuber (3/4/2015)](http://www.reddit.com/r/MachineLearning/comments/2xcyrl/i_am_j%C3%BCrgen_schmidhuber_ama/)\n",
      "\n",
      "[Geoffrey Hinton (11/10/2014)]\n",
      "(http://www.reddit.com/r/MachineLearning/comments/2lmo0l/ama_geoffrey_hinton/)\n",
      "\n",
      "[Michael Jordan (9/10/2014)](http://www.reddit.com/r/MachineLearning/comments/2fxi6v/ama_michael_i_jordan/)\n",
      "\n",
      "[Yann LeCun (5/15/2014)](http://www.reddit.com/r/MachineLearning/comments/25lnbt/ama_yann_lecun/)\n",
      "\n",
      "[Yoshua Bengio (2/27/2014)](http://www.reddit.com/r/MachineLearning/comments/1ysry1/ama_yoshua_bengio/)\n",
      "\n",
      "--------\n",
      "Related Subreddit :\n",
      "\n",
      "* [LearnMachineLearning](http://www.reddit.com/r/LearnMachineLearning)\n",
      "\n",
      "* [Statistics](http://www.reddit.com/r/statistics)\n",
      "\n",
      "* [Computer Vision](http://www.reddit.com/r/computervision)\n",
      "\n",
      "* [Compressive Sensing](http://www.reddit.com/r/CompressiveSensing/)\n",
      "\n",
      "* [NLP] (http://www.reddit.com/r/LanguageTechnology)\n",
      "\n",
      "* [ML Questions] (http://www.reddit.com/r/MLQuestions)\n",
      "\n",
      "* /r/MLjobs and /r/BigDataJobs\n",
      "\n",
      "* /r/datacleaning\n",
      "\n",
      "* /r/DataScience\n",
      "\n",
      "* /r/scientificresearch\n",
      "\n",
      "* /r/artificial\n"
     ]
    }
   ],
   "source": [
    "subreddit = reddit.subreddit('MachineLearning')\n",
    "print(f\"Title: {subreddit.title}, display_name: {subreddit.display_name}\")\n",
    "print()\n",
    "print(subreddit.description)"
   ]
  },
  {
   "cell_type": "markdown",
   "id": "ae626d1e",
   "metadata": {},
   "source": [
    "### Ways to sort submissions\n",
    "<div style=\"text-align:right\"><a href=\"#Table-of-Contents\">[toc]</a></div>\n",
    "\n",
    "Reddit provides us multiple ways to sort `submissions`: \n",
    "* rising <br>\n",
    "* controversial <br>\n",
    "* new <br>\n",
    "* top <br>\n",
    "* hot <br>\n",
    "* gilded <br>"
   ]
  },
  {
   "cell_type": "markdown",
   "id": "69b07f38",
   "metadata": {},
   "source": [
    "### Rising\n",
    "<div style=\"text-align:right\"><a href=\"#Table-of-Contents\">[toc]</a></div>\n",
    "\n",
    "`Rising` means that a post is accumulating upvotes quickly even though it's new."
   ]
  },
  {
   "cell_type": "code",
   "execution_count": 12,
   "id": "4e39201a",
   "metadata": {},
   "outputs": [
    {
     "name": "stdout",
     "output_type": "stream",
     "text": [
      "-> ciao\n",
      "-> Another China lore\n",
      "-> Some clean edits.\n",
      "-> F for Krtkus\n",
      "-> Fuck This Scooter In Particular\n"
     ]
    }
   ],
   "source": [
    "subreddit_posts = reddit.subreddit('all').rising(limit=5) #here limit is used to limit the output of subreddits\n",
    "for post in subreddit_posts:\n",
    "    print(f\"-> {post.title}\")"
   ]
  },
  {
   "cell_type": "markdown",
   "id": "866a54a4",
   "metadata": {},
   "source": [
    "### Controversial\n",
    "<div style=\"text-align:right\"><a href=\"#Table-of-Contents\">[toc]</a></div>\n",
    "\n",
    "`Controversial` Reddit communities are communities on the social news site Reddit (known as \"subreddits\"), often devoted to explicit, violent, or hateful material, that have been the topic of controversy. Controversial Reddit communities sometimes get significant media coverage.\n",
    "\n",
    "Controversial are posts that have very even amounts of up/downvotes and a lot of activity."
   ]
  },
  {
   "cell_type": "code",
   "execution_count": 13,
   "id": "7fab8f80",
   "metadata": {},
   "outputs": [
    {
     "name": "stdout",
     "output_type": "stream",
     "text": [
      "-> can't let Luigi down\n",
      "-> I just saw Blackpink live and it was life changing.\n",
      "-> Denna sub har blivit r/unket\n",
      "-> This group is making ME feel insane\n",
      "-> Khabib only fought one wrestler\n",
      "-> Wendy is Ronald's sister.\n",
      "-> What's your opinion on Kanye West?\n",
      "-> LPT everything you say in a doctors office is being written down and recorded on your health records.\n",
      "-> NOTE : In a recent survey conducted by the Askia Global Survey, 69% doctor agreed \"young/immature female fears syringe while mature one enjoys it\" Picture attached for reference L-18 : R-30 You may proceed\n",
      "-> maybe maybe maybe\n"
     ]
    }
   ],
   "source": [
    "subreddit_posts = reddit.subreddit(\"all\").controversial(time_filter=\"hour\", limit=10)\n",
    "\n",
    "for post in subreddit_posts:\n",
    "    print(f\"-> {post.title}\")"
   ]
  },
  {
   "cell_type": "markdown",
   "id": "599607ae",
   "metadata": {},
   "source": [
    "### New\n",
    "<div style=\"text-align:right\"><a href=\"#Table-of-Contents\">[toc]</a></div>\n",
    "\n",
    "`New` is regarding recently shared posts"
   ]
  },
  {
   "cell_type": "code",
   "execution_count": 14,
   "id": "c5c8dcdc",
   "metadata": {},
   "outputs": [
    {
     "name": "stdout",
     "output_type": "stream",
     "text": [
      "Influencer marketing, evaluating influencer's worth and ROI for the campaign.\n",
      "Do any of the current nuke students still have the “limited” command patches?\n",
      "270050\n",
      "If you love your job, what do you work as?\n",
      "what do you think of wattpad search engine?\n"
     ]
    }
   ],
   "source": [
    "for post in reddit.subreddit(\"all\").new(limit=5):\n",
    "    print(post.title)"
   ]
  },
  {
   "cell_type": "markdown",
   "id": "9343407a",
   "metadata": {},
   "source": [
    "### Top\n",
    "<div style=\"text-align:right\"><a href=\"#Table-of-Contents\">[toc]</a></div>\n",
    "\n",
    "`Top` is sorted by highest score, i.e upvotes minus downvotes."
   ]
  },
  {
   "cell_type": "code",
   "execution_count": 15,
   "id": "52883797",
   "metadata": {},
   "outputs": [
    {
     "name": "stdout",
     "output_type": "stream",
     "text": [
      "I’ve found a few funny memories during lockdown. This is from my 1st tour in 89, backstage in Vegas.\n",
      "Times Square right now\n",
      "Joe Biden elected president of the United States\n",
      "The Senate. Upvote this so that people see it when they Google \"The Senate\".\n",
      "My cab driver tonight was so excited to share with me that he’d made the cover of the calendar. I told him I’d help let the world see\n"
     ]
    }
   ],
   "source": [
    "for post in reddit.subreddit(\"all\").top(limit=5):\n",
    "    print(post.title)"
   ]
  },
  {
   "cell_type": "markdown",
   "id": "598794ff",
   "metadata": {},
   "source": [
    "### Hot\n",
    "<div style=\"text-align:right\"><a href=\"#Table-of-Contents\">[toc]</a></div>\n",
    "\n",
    "`Hot` means the post has an overwhelming number of upvotes, suggesting it's well-liked."
   ]
  },
  {
   "cell_type": "code",
   "execution_count": 16,
   "id": "7d66f0a0",
   "metadata": {},
   "outputs": [
    {
     "name": "stdout",
     "output_type": "stream",
     "text": [
      "-> [D] Simple Questions Thread\n",
      "-> [N] Stability.ai AMA on November 15\n",
      "-> [R] A relabelling of the COCO 2017 dataset\n",
      "-> [R] An optimal control perspective on diffusion-based generative modeling\n",
      "-> [R] ZerO Initialization: Initializing Neural Networks with only Zeros and Ones\n",
      "-> [Discussion] Can we train with multiple sources of data, some very reliable, others less so?\n",
      "-> [D] \"Grokking\" Deep Learning architectures and using them in practice\n",
      "-> [P] deodel - a mixed attributes classifier\n",
      "-> [R] LiBai: a large-scale open-source model training toolbox\n",
      "-> [D] Alternatives to padding\n"
     ]
    }
   ],
   "source": [
    "# Fetching hot 10 posts related to machine learning\n",
    "subreddit_posts = reddit.subreddit('MachineLearning').hot(limit=10) #here limit is used to limit the output of subreddits\n",
    "for post in subreddit_posts:\n",
    "    print(f\"-> {post.title}\")"
   ]
  },
  {
   "cell_type": "markdown",
   "id": "212b5b03",
   "metadata": {},
   "source": [
    "### Upvote Ratio\n",
    "<div style=\"text-align:right\"><a href=\"#Table-of-Contents\">[toc]</a></div> \n",
    "\n",
    "`Upvote` ratio is the percentage of upvotes for a post"
   ]
  },
  {
   "cell_type": "code",
   "execution_count": 17,
   "id": "c640745c",
   "metadata": {},
   "outputs": [
    {
     "name": "stdout",
     "output_type": "stream",
     "text": [
      "-> 1.0\n",
      "-> 0.9\n",
      "-> 0.96\n",
      "-> 0.87\n",
      "-> 0.4\n",
      "-> 0.78\n",
      "-> 1.0\n",
      "-> 1.0\n",
      "-> 0.85\n",
      "-> 1.0\n"
     ]
    }
   ],
   "source": [
    "subreddit_posts = reddit.subreddit('MachineLearning').hot(limit=10) #here limit is used to limit the output of subreddits\n",
    "for post in subreddit_posts:\n",
    "    print(f\"-> {post.upvote_ratio}\")"
   ]
  },
  {
   "cell_type": "code",
   "execution_count": 18,
   "id": "a0dc490e",
   "metadata": {},
   "outputs": [
    {
     "name": "stdout",
     "output_type": "stream",
     "text": [
      "-> What a dumpster fire LOL\n",
      "-> This is what my 2nd grader wrote about my dad for grandparents night and he was the only grandparent he did out of 4 of them.🤦‍♀️🤦‍♀️\n",
      "-> US to buy South Korean howitzer rounds to send to Ukraine\n",
      "-> Verified account.\n",
      "-> It's a bit cold out this morning\n",
      "-> Artic Fox travels over 3500km(2717mi) Norway to Canada\n",
      "-> Federal judge in Texas blocks Biden’s student loan forgiveness plan\n",
      "-> there is no god\n",
      "-> Was cutting down a tree at a golf course and found a golf ball wedged in it\n",
      "-> TIL while orbiting the moon aboard Apollo 11, Mission Control detected a problem with the environmental control system and told astronaut Michael Collins to implement Environmental Control System Malfunction Procedure 17. Instead he just flicked the switch off and on. It fixed the problem.\n"
     ]
    }
   ],
   "source": [
    "# We can also get hot 10 posts of all time from reddit by giving value as all\n",
    "subreddit_posts = reddit.subreddit('all').hot(limit=10)\n",
    "for post in subreddit_posts:\n",
    "    print(f\"-> {post.title}\")"
   ]
  },
  {
   "cell_type": "markdown",
   "id": "f2c38702",
   "metadata": {},
   "source": [
    "### Search query\n",
    "<div style=\"text-align:right\"><a href=\"#Table-of-Contents\">[toc]</a></div>"
   ]
  },
  {
   "cell_type": "code",
   "execution_count": 19,
   "id": "5c1658dc",
   "metadata": {},
   "outputs": [
    {
     "name": "stdout",
     "output_type": "stream",
     "text": [
      "prawe piracki wystrój 😅\n",
      "- Piss\n",
      "Problem z ubezpieczalnią\n",
      "Subreddit Stats: MinecraftChampionship top posts from 2022-10-11 to 2022-11-09 19:20 PDT\n",
      "Can you post media (not through URLs) or manage reddit talks with PRAW?\n"
     ]
    }
   ],
   "source": [
    "# We can subreddit based on query\n",
    "# syntax search : (query, sort=any one of [\"hot\", \"new\", \"top\"], limit=value)\n",
    "for post in reddit.subreddit(\"all\").search(\"praw\", sort=\"new\", limit=5):\n",
    "    print(post.title)"
   ]
  },
  {
   "cell_type": "markdown",
   "id": "bbd8e957",
   "metadata": {},
   "source": [
    "### Comment\n",
    "<div style=\"text-align:right\"><a href=\"#Table-of-Contents\">[toc]</a></div>\n",
    "\n",
    "`Commenting` is one of Reddit's core features, and it is the primary way for users to interact with each other, besides private messaging. Comments, like posts, can be voted on by users and are then ranked accordingly."
   ]
  },
  {
   "cell_type": "code",
   "execution_count": 20,
   "id": "55a45dae",
   "metadata": {},
   "outputs": [
    {
     "name": "stdout",
     "output_type": "stream",
     "text": [
      "aozorahime\n",
      "AutoModerator\n",
      "DontTakeAnyCrap\n",
      "A1-Delta\n",
      "haljm\n",
      "AutoModerator\n",
      "AutoModerator\n",
      "clickmeimorganic\n",
      "AutoModerator\n",
      "windoze\n"
     ]
    }
   ],
   "source": [
    "# getting comments for topic machine learning\n",
    "for comment in reddit.subreddit(\"MachineLearning\").comments(limit=10):\n",
    "    print(comment.author)"
   ]
  },
  {
   "cell_type": "markdown",
   "id": "366075e6",
   "metadata": {},
   "source": [
    "### Submission\n",
    "<div style=\"text-align:right\"><a href=\"#Table-of-Contents\">[toc]</a></div>\n",
    "\n",
    "A `submission` is a post on a subreddit."
   ]
  },
  {
   "cell_type": "code",
   "execution_count": 21,
   "id": "97891420",
   "metadata": {},
   "outputs": [
    {
     "name": "stdout",
     "output_type": "stream",
     "text": [
      "The author for https://www.reddit.com/r/funny/comments/3g1jfi/buttons/ is mathild4\n",
      "[deleted]\n",
      "[Trusted] Download\n",
      "\n",
      "[Fast] Download \n",
      "\n",
      "ALWAYS NEITHER OF THESE \n",
      "\"i must have chosen correct cause i got a congratulation saying i was the millionth person to download the file and to click here to claim my free ipad\" \n",
      "It is said that he who holds the Sacred Chalice of Ad-block shall find the One Button.\n",
      "If you need help, just use the Ask toolbar!\n",
      "This really bothers me.\n",
      "\n",
      "In Indiana Jones and the Last Crusade the dude didn't get his face melted off after choosing poorly, he just started aging really fast until he shriveled up into dust.\n",
      "\n",
      "Raiders is where dudes' faces melted off.\n",
      "The one with the magnet.\n",
      "http://i.imgur.com/vpM80kV.png\n",
      "How about hovering your mouse over all of them to see where they lead you to? No? Noone does that?\n",
      "It's fucking infuriating! I have gotten a lot better at recognizing the bullshit though.\n",
      "unless it's one of those pages where the first click, no matter where on the page, will always open a new tab of ad. After that, the 2nd click will work... assuming you picked the right button\n",
      "#adblock\n",
      "Just click and drag it. If it doesn't follow your cursor, it's an ad.\n",
      "\n",
      "edit: it works in most cases, not always\n",
      "There are so many ways to tell which to click. Look at the status bar. Hover cursor and look for bubble pop-up text. Right click, copy link location, paste into address bar but don't hit enter. Use a virtual machine. Use a friends PC. Use grandma's PC. Don't be a dumbass kids.\n",
      "Cnet_download_manager.exe\n",
      "Let me recount the time my step-mother clicked countless of these buttons, trying to follow her \"hacker-friend's\" instructions to generate a windows key.  Also, as a note, I sure as hell didn't want to do this. Unfortunately, she and my father didn't want me to buy my own Windows key like a sane, normal person.\n",
      "  \n",
      "She was supposed to turn off my antivirus, and click three things, and then follow a few steps.  \n",
      "  \n",
      "Instead, she clicked every download button and every link on every website, opened several dozen Mozilla Firefox tabs, installed a dangerously idiotic amount of programs, until I finally told her to get up and step away from the desk.  \n",
      "  \n",
      "By the time she was finished, the mouse barely worked, it took ten minutes to load most webpages, and after turning on Avast and covering my ears for a few minutes, she had racked up an impressive *five-thousand and twenty-seven infected files*. Malware, spyware, adware, trojans, viruses of all sizes and shapes, my PC could have been used as a hub, a carrier for every sort of malicious anything ever.  \n",
      "  \n",
      "I don't know how someone does that. But she did it. *It happened.*\n",
      "The worst is when it's not even the first button. You got to hope for one in the middle, mouse-over it and hope it doesn't get too excited.\n",
      "Hold and drag. Fake buttons will drag their image with them, the true button will drag the link.\n",
      "[deleted]\n",
      "[deleted]\n",
      "Click the 'Download Magnet' button.\n",
      "Adblock plus has been getting some hate lately but this is exactly what it puts an end to.\n",
      "If you pray to Lord add block then there is but one choice \n",
      "I always choose the wrong one\n",
      "Couchtuner & putlocker for those who need sites and haven't seen these\n",
      "The one with the Batman symbol\n",
      "*watch as free user* ~ click\n",
      "It's a lie! The real link is always plain text!\n",
      "copy the hash\n",
      "Round one, top center.  No arrow.  Tis the true button.\n",
      "ublock.\n",
      "\n",
      "You'll thank me.\n",
      "\n",
      "Also, for mobile, firefox for android and install add on ublock.\n",
      "\n",
      "Works great.\n",
      "or the button is not even there and it's a timer, every button is false\n",
      "Click and drag. The one without any transparent background is the real one.\n",
      "The real button won't move if you drag it. So if it moves, it's an ad.\n",
      "THIS is one of the key reasons it is still not possible for someone to be nailed for 'illegal downloading'.\n",
      "\n",
      "Love it.\n",
      "I only see one button, Adblock must be working\n",
      "So literally sourceforge\n",
      "[deleted]\n",
      "I did this test separately with my mom and older sister when I installed software on their computer. \"Okay, this is a test. Which download button would you click, the giant green one or the little grey one?\" [They both failed.](http://i.imgur.com/m08y3Ke.jpg)\n",
      "it's probably the \"download\" button.\n",
      "You know what would be a good movie to pirate? Ice Age: The Meltdown\n",
      "Hold and drag. Fake buttons will drag their image with them, the true button will drag the link.\n",
      "Adblock\n",
      "Every time i show someone how to use torrent sites \n",
      "why is this not Indiana Jones?\n",
      "[Relevant](https://xkcd.com/272/)\n",
      "you clicked... poorly.\n",
      "The magnet, choose the magnet\n",
      "THEY'RE ALL DOWNVOTES\n",
      "Hahaha. I have an unfair advantage. I've been playing this game since before the false buttons. \n",
      "adblock!\n",
      "Let's be honest though, the correct button is probably hidden underneath those buttons. \n",
      "It requires an IQ over 45 to determine which one.\n",
      "the real one isnt even a button. it's just plain blue text.\n",
      "Two words: magnet links.\n",
      "It's an old button...it hasn't been used in months because nobody finds it...It's a button someone made to hide his film...a button to access the treasure...I should go for the smal grey button...not the big green one...\n",
      "\n",
      "Damnit !! Forex commercial....\n",
      "Slacker Bobby and the Last Torrent\n",
      "adblock\n",
      "This is why I run adblock.  Only one button, the true button shows for me. \n",
      "I look forward to the day that nobody gets this joke because we all know better. \n",
      "Just find the torrent hash or magnet link and copy it. Don't click *any* download links unless you're 100% sure it's the torrent file.\n",
      "/r/sad\n",
      "Only the penitent man shall pass...\n",
      "\n",
      "There! That's the download button of a carpenter.\n",
      "The wrong button plays grindcore apparently\n",
      "Its always the least compressed image\n",
      "Its the button of a carpenter.\n",
      "No, no, no no... (no.. the button was not the comments button\n",
      "\\*Clicks adblock button\\*\n",
      "\n",
      "AH THERE IT IS!\n",
      "Invoking `document.querySelectorAll(\"a[href*=\"+document.location.host+\"]>img\")` I find the true button to be the circular one behind the grail knight.\n",
      "If you're not sure, click and drag it. If you can drag it, don't click it. \n",
      "I've always found that hovering over the download button and reading the url it displays usually helps. 9 times outta 10, the correct url will link you to the website you're already on.\n",
      "This is why you always have ad blocker.\n",
      "Ahhh the joys of having to download from sourceforge!\n",
      "Adblock etc. I always choose wisely.\n",
      "In a perfect world, you could phone a friend or get 50/50.\n",
      "I didn't know there was a caption until I scrolled down further. It's funnier without the caption.\n",
      "Use the magnet link, Luke!\n",
      "\n",
      "USE THE MAGNET LINK!\n",
      "The one with the Batman symbol\n",
      "Click, hold and drag. If it comes, let it be gone, if it stays, that's the right choice.\n",
      "Bitch please, just use the Pirate Bay\n",
      "Downloading u_have_chosen_p00rly.exe\n",
      "\n",
      "0 seconds remaining...\n",
      "speaking of which.. anyone got a link for streaming movies? my life is in shambles since movietube got shut down.\n",
      "It's none of them, you have to scroll all the way past those download links to the very bottom where you won't find a button, but simply some highlighted text amongst the wall of plain text. That is the holy grail.\n",
      "its the only one that cant be clicked and dragged.\n",
      "So did people just stop using Adblock, or what\n",
      "Have you heard of our Lord and savior, ad block?\n",
      "This needs to be a movie.\n",
      "The second highest one on the upper right looks like an old man's limp dick. Can't tell if on purpose.\n",
      "Add block ftw \n",
      "Reminds me of Indiana Jones.\n",
      "Remember kids, it's the blinking button that vibrates, it's font is on comic sans or impact, it's much bigger than it needs to be, it's close button it's very small and transparent, and is capable of showing up twice in the same page!\n",
      "Ublock origin\n",
      "It's the small rectangle in the middle right\n",
      "TIL most people on reddit pirate things. \n",
      "[deleted]\n",
      "Ahh I used to have this problem. The Ad Blocker extension for chrome gets rid of everything but the working link. \n",
      "A tip: If you can drag the image, then it isn't a link.\n",
      "Obviously it's the one labeled \"download\" duhh\n",
      "You chose...  porn.ly \n",
      "It's always the one that's linked, underlined and simply says ,\"download here.\"\n",
      "The real one is a hyperlink.\n",
      "Look for the magnet, folks \n",
      "get linux, if it doesn't download, then no big deal.\n",
      "it's button 5\n",
      "It's a trick.  Your download will start automatically after 10 seconds.\n",
      "Adblock\n",
      "We call it minesweeper. \n",
      "If you're not sure, click and drag it. If you can drag it, don't click it. \n",
      "or you could just at the hyperlink it will take you too.\n",
      "This is what the next year's the button will be.\n",
      "The one that doesn't have the hand is the right one.\n",
      "Magnet link icon is always the answer.\n",
      "The struggle is real \n",
      "I always try to just do the right click and save as trick. \n",
      "I heard you can drag it and if it moves then its the false button.\n",
      "Looking at you Kickasstorrents!\n",
      "People really just need to get an ad blocker..\n",
      "I recently introduced my father to torrenting,  Sending him this now.\n",
      "But which one will give me number, color, and flair?\n",
      "Complete a Survey first!\n",
      "Pirate movie or Minecraft mod. The bastards prey on the youngest if us...\n",
      "Do you even ad block plus? \n",
      "\"He chose....poorly.\"\n",
      "Unless you get adblocker\n",
      "he chose...poorly...\n",
      "If you hover over a button and look at the bottom of the screen (in Chrome at least) it'll show you what site the button leads to. From there its pretty obvious how to find the real button.\n",
      "Just click and drag, my friends. Just click and drag. \n",
      "Movie Name (Promoted)\n",
      "Movie Name (Trusted)\n",
      "Movie Name 1.31gb 51s 26p Magnet\n",
      "We have all dealt with this.\n",
      "This is pretty much www.sockshare.ch or whatever the .thing is. Any of the sites that www.letmewatchthis.ch brings you to.\n",
      "Does anybody know the cure for a melted face? Seen many doctors but nothing till now\n"
     ]
    }
   ],
   "source": [
    "# To get comments\n",
    "from praw.models import MoreComments\n",
    "\n",
    "url = \"https://www.reddit.com/r/funny/comments/3g1jfi/buttons/\"\n",
    "submission = reddit.submission(url=url)\n",
    "print(f\"The author for {url} is {submission.author}\")\n",
    "\n",
    "for top_level_comment in submission.comments:\n",
    "    if isinstance(top_level_comment, MoreComments):\n",
    "        continue\n",
    "    print(top_level_comment.body)"
   ]
  },
  {
   "cell_type": "markdown",
   "id": "9fdc3178",
   "metadata": {},
   "source": [
    "To ignore MoreComments or remove all those, we can use\n",
    "\n",
    "submission.comments.replace_more(limit=0)\n",
    "\n",
    "Meanwhile, a limit of None means that all MoreComments objects will be replaced until there are none left, as long as they satisfy the threshold.\n",
    "\n",
    "\n",
    "submission.comments.replace_more(limit=None)"
   ]
  },
  {
   "cell_type": "code",
   "execution_count": 22,
   "id": "afe841a4",
   "metadata": {},
   "outputs": [
    {
     "name": "stdout",
     "output_type": "stream",
     "text": [
      "Like the holy grail. \n",
      "[This is not the button of a carpenter...](http://i.imgur.com/h8r0F.jpg)\n",
      "But sometimes the real button is big and green, then I don't trust it.\n",
      "The button of real be not a rounded rectangle\n",
      "[deleted]\n",
      "None of the buttons are real and it's actually a really small link in plain text on the bottom on the page saying \"[download >>>](http://www.azlyrics.com/lyrics/rickastley/nevergonnagiveyouup.html)\"\n",
      " Where many elders have tried, all have failed. There rises an entity. Legend tells Of a legendary tool. One that  allows the user to instantly select the right button. It can only be found in the depths of the chrome store zone. We call it... AdBlock\n",
      "Usually it's just a little plaintext blue link in a sea of huge flashing buttons.\n",
      "You mean the magnet button\n",
      "Or the one that's left after adblock plus takes care of the rest.\n",
      "Not on zippyshare though..\n",
      "it's always the blue underlined anchor text\n",
      "Its ways the blue color. \n",
      "Why would an advertising company use a plain text link?\n",
      "This is the button of a carpenter. \n",
      "Hijacking top comment to tell you guys this, but if you click on a download button and drag it around, the fake ones will move because they're pictures while the real one will not. \n",
      "Usually, but I'm pretty sure on torrenthound it's the button screaming **don't push me**, that's the right button.\n",
      "It's the magnet.\n",
      "Or the magnet.\n",
      "Or text under the \"Faster Download\" button.\n",
      "It really is. \n",
      "I always look at the URL in the action bar to make sure I'm not being sent to boobs.com. \n",
      "\n",
      "Sometimes I just go to boobs.com. Cause really, why not.\n",
      "Hijacked for a life pro tip, download Adblock plus for chrome and it will remove the liar buttons and almost all ads. It's free and it's amazing. I've only used on chrome but I'm sure it's around for others. \n",
      "also usually the smallest\n",
      "it's always **DOWNLOAD** **DOWNLOAD** **DOWNLOAD NOW**\n",
      "\n",
      "^^^Real ^^^download ^^^is ^^^here\n",
      "Or the one Adblock doesn't block if you wanna make it easy\n",
      "Usually it isn't even a button, it's text in font size 8 that you barely see.\n",
      "There's no obvious button for a magnet link. Better not press any of those.\n",
      "The one with no arrows. Little bit right of the middle. And up some - edited to insert this\n",
      "Only one of those buttons doesn't have a shadow.\n",
      "Usually just a hyperlinked piece of text, actually.\n",
      "Sad part is that it sometimes its not even a button but a text link\n",
      "[deleted]\n",
      "Usually, not quite always. You also have to take the theme and layout into consideration. A metro-style button on a site with shiny glowy things is fake, a button with an ad perfectly aligned to it is fake.\n",
      "Inb4 Emulator sites\n",
      "Yep, easy, click the least attractive one, always. This goes for life in general, the least attractive has everything to win. \n",
      "One True Button\n",
      "Its never the buttons that say download its always like click here to continue.\n",
      "This needs a simple text link called download. They sort of ruined the joke.\n",
      "The best is when you search for something and you get a results page that looks like:\n",
      "\n",
      "> #\\[Trusted] Your search term\n",
      "\n",
      "> #\\[Fast] Your search term\n",
      "\n",
      "> **^^No ^^results ^^found**\n",
      "Rule 1 of Pirate club - always take the slow one.\n",
      "Dude, me too. When I hit the button I was contacted by a Nigerian Prin... wait.\n",
      "[Or to claim a massive yacht](https://youtu.be/sdi6E-qzS1c)\n",
      "https://www.youtube.com/watch?v=sdi6E-qzS1c\n",
      "#Why is your comment in quotes?\n",
      "Dude I got a virus so bad it fucking uninstalled adblock\n",
      "Fake download buttons seem to be immune to Adblock for whatever reason. I have to manually block them. \n",
      "One button to play them all.\n",
      "Hosting sites and fake torrent sites give you download links to .exe files these days, even with adblock.\n",
      "[Which one?](http://i.imgur.com/ArMJZdW.png)\n",
      "My Bonzi-Buddy is already doing that for me, among other things\n",
      "Every time I am asked to fix my parents' computer.\n",
      "\n",
      "\"So, remember when I told you not to install or update anything without running it by me?\"  \n",
      "\n",
      "\"Yeah. We haven't.\"\n",
      "\n",
      "\"So you didn't update Java?\"\n",
      "\n",
      "\"No, of course not.\"\n",
      "\n",
      "\"The evidence that you are a liar is right here, in this toolbar\"\n",
      "\n",
      "\n",
      "Wait, what?\n",
      "THIS. This is why I came here... bless you my child, you are not alone. This is definitely the first thing I thought of when I read the caption.  You rock.\n",
      "Unless he's referencing both movies since there is an opening aspect. He's implying that opening the ad is like opening the arc of the covenant. The malware melt you face. \n",
      "The graphics that showed that in the DOS game blew my mind back in 1989.  \n",
      "But it wouldn't make as much sense if it was;\n",
      "\"While the true cup will give you a pirated movie: the false one will take it from you\".\n",
      "Sssh they'll start integrate magnets into the bullshit buttons. \n",
      "Everytime I try a magnet link, I get told I need to upgrade my torrent software, any ideas? I can't use Pirate Bay because of this \n",
      "Fuckin' magnets! How do THEY work?!\n",
      "Hey, you are an informative guy.\n",
      "uBlock Origin*\n",
      "Never had fake download buttons blocked by ABP unless they were in banner ads, in which case who the fuck *actually* falls for those?\n",
      "I can't afford enough ram to run adblock plus, but I've heard it's nice on supercomputers.\n",
      "you da real mvp\n",
      "A lot use `onclick=\"\"`. \n",
      ">Noone\n",
      "\n",
      "This happens more often than it should.\n",
      "\n",
      "I use adblock but only use blacklist pages so I never accidentally block ads from websites I want to support.\n",
      "\n",
      "Even without pirating, I'll try to download something like a mod for Minecraft and there are 8,000 download buttons. That is until I use adblock on that domain and all of a sudden, the true one shows itself while the imposters all disintegrate into dust.\n",
      "\n",
      "No need to hover your mouse with that method.\n",
      "i love you, brother.  and what you say makes sense.\n",
      "\n",
      "however, the bigger issue is businesses that allow this type of horseshit advertising to take place.  if they were to police their own websites and ditch scummy advertisers who pull these kinds of deceptions and confidence scams we wouldn't be ad-blocking, no-scripting, ghostery-ing, etc.\n",
      "As an IE user, I do this.\n",
      "Tablet users are fucked.\n",
      "It's easier when you have a website that you use regularly...Until it gets shut down \n",
      "I have lost my edge at detecting bullshit due to adblock not ever letting me see any of it.\n",
      "RIGHT-CLICK, MOTHERFUCKERS!!\n",
      "Or where EVERY click does that. Fuck those sites. Rule 34 sites tend to do that a lot in particular\n",
      "[Success!](http://i.imgur.com/zA07XAZ.jpg)\n",
      "[deleted]\n",
      "unless they use javascript.\n",
      "The word of the day is 'Reinstall Windows'\n",
      "\n",
      "also:  never let someone who uses the words 'hacker friend' near your pc. \n",
      "She's like the Typhoid Mary of computer viruses.\n",
      "She is master at screwing computers,she must get IEEE Pioneer Award for Fucking up computer in minutes.\n",
      "True but doesn't always work as some ads are basically URLs covered up with the images. You have to make sure the URL is the one you're looking for.\n",
      "If you have android, there's adblock available at https://adblockplus.org/android-install.   \n",
      "firefox browser, install ublock. Done.\n",
      "\n",
      "You're welcome.\n",
      ">mobile\n",
      "\n",
      "So have you made your bed, so there shall you lie.\n",
      "Why would you even need to click one of those download buttons if you're on a phone? I can't think of anything that you couldn't just download from the play store besides... Oh wait. \n",
      "Adblock exists on mobile\n",
      "That's weird, I installed ublock in mobile. I'm using firefox though.\n",
      "Adblock works on Android. If you use iPhone then may God have mercy on your soul.\n",
      "I don't understand the hate it gets. A lot of people shitting on it for taking ad revenue from content producers on youtube etc, I guess. Fuck, just donate directly. They'll get 100% of the money instead of having to do some split revenue.\n",
      "So, you've chosen poorly?\n",
      "Amen!\n",
      "The equivalent of divining if the Force is strong in this One, or not.\n",
      "Mindblown\n",
      "True,  was my expectation\n",
      "and moves out from under the mouse cursor *just* as you go to click it\n",
      "its not related to IQ\n",
      "    <a href=\"/redirect/virus/lol\">Totally Legit Download</a>\n",
      "I use popcorn time my self. \n",
      "Is this sarcastic?\n",
      "And got crystal skull Instead of raiders.\n",
      "Not true on Chrome, or at least not true on the Reddit logo.\n",
      "... you're right...\n",
      "I think this might be an Indiana Jones reference actually\n",
      "Hypertext dude. Do you even surf the world wide web? \n",
      "R.I.P. \n",
      "[Don't look at your next electricity bill](http://www.theverge.com/2015/3/6/8161251/utorrents-secret-bitcoin-miner-adware-malware). Or whatever malware they include next...\n",
      "or adblock\n",
      "Stop pretending 'usenet' is specifically the binaries groups, moron.\n"
     ]
    }
   ],
   "source": [
    "# we can get comment replies\n",
    "submission.comments.replace_more(limit=None)\n",
    "for top_level_comment in submission.comments:\n",
    "    for second_level_comment in top_level_comment.replies:\n",
    "        print(second_level_comment.body)"
   ]
  },
  {
   "cell_type": "markdown",
   "id": "a6b260d6",
   "metadata": {},
   "source": [
    "### Post Score\n",
    "<div style=\"text-align:right\"><a href=\"#Table-of-Contents\">[toc]</a></div>\n",
    "\n",
    "A `submission's score` is simply the number of upvotes minus the number of downvotes."
   ]
  },
  {
   "cell_type": "code",
   "execution_count": 23,
   "id": "822b7285",
   "metadata": {},
   "outputs": [
    {
     "name": "stdout",
     "output_type": "stream",
     "text": [
      "* Title: What a dumpster fire LOL \t Score: 40560 \t No_of_comments: 1237 \t body: \n",
      "* Title: This is what my 2nd grader wrote about my dad for grandparents night and he was the only grandparent he did out of 4 of them.🤦‍♀️🤦‍♀️ \t Score: 10282 \t No_of_comments: 296 \t body: \n",
      "* Title: US to buy South Korean howitzer rounds to send to Ukraine \t Score: 16286 \t No_of_comments: 869 \t body: \n",
      "* Title: Verified account. \t Score: 12214 \t No_of_comments: 288 \t body: \n",
      "* Title: It's a bit cold out this morning \t Score: 13374 \t No_of_comments: 209 \t body: \n",
      "* Title: Artic Fox travels over 3500km(2717mi) Norway to Canada \t Score: 30485 \t No_of_comments: 1324 \t body: \n",
      "* Title: Federal judge in Texas blocks Biden’s student loan forgiveness plan \t Score: 16920 \t No_of_comments: 2125 \t body: \n",
      "* Title: there is no god \t Score: 8612 \t No_of_comments: 95 \t body: \n",
      "* Title: Was cutting down a tree at a golf course and found a golf ball wedged in it \t Score: 6107 \t No_of_comments: 115 \t body: \n",
      "* Title: TIL while orbiting the moon aboard Apollo 11, Mission Control detected a problem with the environmental control system and told astronaut Michael Collins to implement Environmental Control System Malfunction Procedure 17. Instead he just flicked the switch off and on. It fixed the problem. \t Score: 31377 \t No_of_comments: 651 \t body: \n"
     ]
    }
   ],
   "source": [
    "# We can also get hot 10 posts and its score and num_of_comments, body of all time from reddit\n",
    "subreddit_posts = reddit.subreddit('all').hot(limit=10)\n",
    "for post in subreddit_posts:\n",
    "    print(f\"* Title: {post.title} \\t Score: {post.score} \\t No_of_comments: {post.num_comments} \\t body: {post.selftext}\")"
   ]
  },
  {
   "cell_type": "code",
   "execution_count": 24,
   "id": "31823fa1",
   "metadata": {},
   "outputs": [
    {
     "name": "stdout",
     "output_type": "stream",
     "text": [
      "* Title: I’ve found a few funny memories during lockdown. This is from my 1st tour in 89, backstage in Vegas. \t Score: 438823 \t No_of_comments: 19116 \t ID: haucpf \t created: 1592410647.0\n",
      "* Title: Times Square right now \t Score: 470764 \t No_of_comments: 13741 \t ID: l8rf4k \t created: 1612029638.0\n",
      "* Title: Joe Biden elected president of the United States \t Score: 365124 \t No_of_comments: 28593 \t ID: jptqj9 \t created: 1604766517.0\n",
      "* Title: The Senate. Upvote this so that people see it when they Google \"The Senate\". \t Score: 412270 \t No_of_comments: 5027 \t ID: 62sjuh \t created: 1491051474.0\n",
      "* Title: My cab driver tonight was so excited to share with me that he’d made the cover of the calendar. I told him I’d help let the world see \t Score: 308589 \t No_of_comments: 2462 \t ID: 7mjw12 \t created: 1514430055.0\n"
     ]
    }
   ],
   "source": [
    "# We can get top posts of all time with id, created\n",
    "subreddit_posts = reddit.subreddit('all').top(limit=5)\n",
    "for post in subreddit_posts:\n",
    "    print(f\"* Title: {post.title} \\t Score: {post.score} \\t No_of_comments: {post.num_comments} \\t ID: {post.id} \\t created: {post.created}\")"
   ]
  },
  {
   "cell_type": "markdown",
   "id": "fc9c4ace",
   "metadata": {},
   "source": [
    "### Access Redditor\n",
    "<div style=\"text-align:right\"><a href=\"#Table-of-Contents\">[toc]</a></div>\n",
    "\n",
    "\n",
    "In Reddit, the user is called a `Redditor` . We can obtain the redditor instance using the method redditor. In the method we pass the username of the redditor. \n",
    "\n",
    "On Reddit, your `karma` is a reflection of how much your contributions mean to the community. How much karma someone has is publicly displayed on their profile. You can earn karma in a few different ways: Posting and commenting.\n",
    "\n",
    "If people upvote your comment, you get comment karma. If people upvote your link submission, you get link karma. If a post is Text-only, like the one you've made here, we call that a \"self post\""
   ]
  },
  {
   "cell_type": "code",
   "execution_count": 25,
   "id": "f0bdc09e",
   "metadata": {},
   "outputs": [
    {
     "name": "stdout",
     "output_type": "stream",
     "text": [
      "1000\n"
     ]
    }
   ],
   "source": [
    "redditor = reddit.redditor('AutoModerator')\n",
    " \n",
    "# display AutoModerator's karma\n",
    "print(redditor.link_karma)"
   ]
  },
  {
   "cell_type": "markdown",
   "id": "f62a835f",
   "metadata": {},
   "source": [
    "## Creating dataset using praw data\n",
    "<div style=\"text-align:right\"><a href=\"#Table-of-Contents\">[toc]</a></div>\n",
    "\n",
    "Hence, as for now, we have learned all the functions regarding the `PRAW`. Now lets implement by constructing a dataset and analyze the data, with help of extracting data from `Reddit` using `PRAW`. "
   ]
  },
  {
   "cell_type": "code",
   "execution_count": 26,
   "id": "dfc01eb2",
   "metadata": {},
   "outputs": [],
   "source": [
    "import pandas as pd\n",
    "import numpy as np\n",
    "import matplotlib.pyplot as plt\n",
    "%matplotlib inline"
   ]
  },
  {
   "cell_type": "code",
   "execution_count": 27,
   "id": "198068c9",
   "metadata": {},
   "outputs": [],
   "source": [
    "# getting all the top trending posts\n",
    "subreddit_posts = reddit.subreddit('all').top(limit=350)"
   ]
  },
  {
   "cell_type": "code",
   "execution_count": 28,
   "id": "df9d1df0",
   "metadata": {},
   "outputs": [],
   "source": [
    "data = []\n",
    "\n",
    "for post in subreddit_posts:\n",
    "    data_list = []\n",
    "    post_id = post.id\n",
    "    post_title = post.title\n",
    "    post_author = post.author\n",
    "    post_selftext = post.selftext\n",
    "    post_score = post.score\n",
    "    post_num_comments = post.num_comments\n",
    "    post_num_report = post.num_reports\n",
    "    post_created = post.created\n",
    "    post_subreddit = post.subreddit\n",
    "    post_upvote_ratio = post.upvote_ratio\n",
    "    post_url = post.url\n",
    "    \n",
    "    if post_author:\n",
    "        post_author_name = post_author.name\n",
    "    else:\n",
    "        post_author_name = None\n",
    "    if post_subreddit:\n",
    "        post_subreddit_name = post.subreddit.display_name\n",
    "        post_subreddit_subscribers = post.subreddit_subscribers\n",
    "    else:\n",
    "        post_subreddit_name = None\n",
    "        post_subreddit_subscribers = None\n",
    "    \n",
    "    data_list = [post_id, post_title, post_author_name, post_selftext, post_score, post_num_comments, post_num_report, post_created, post_subreddit_name, post_subreddit_subscribers, post_upvote_ratio, post_url]\n",
    "    data.append(data_list)\n"
   ]
  },
  {
   "cell_type": "code",
   "execution_count": 29,
   "id": "938188b1",
   "metadata": {},
   "outputs": [
    {
     "name": "stdout",
     "output_type": "stream",
     "text": [
      "Number of records: 350\n"
     ]
    }
   ],
   "source": [
    "print(f\"Number of records: {len(data)}\")"
   ]
  },
  {
   "cell_type": "code",
   "execution_count": 30,
   "id": "65428978",
   "metadata": {},
   "outputs": [
    {
     "data": {
      "text/plain": [
       "['haucpf',\n",
       " 'I’ve found a few funny memories during lockdown. This is from my 1st tour in 89, backstage in Vegas.',\n",
       " 'ReallyRickAstley',\n",
       " '',\n",
       " 438830,\n",
       " 19116,\n",
       " None,\n",
       " 1592410647.0,\n",
       " 'pics',\n",
       " 29512386,\n",
       " 0.99,\n",
       " 'https://i.redd.it/f58v4g8mwh551.jpg']"
      ]
     },
     "execution_count": 30,
     "metadata": {},
     "output_type": "execute_result"
    }
   ],
   "source": [
    "data[0]"
   ]
  },
  {
   "cell_type": "code",
   "execution_count": 31,
   "id": "5946f938",
   "metadata": {},
   "outputs": [],
   "source": [
    "reddit_posts_df = pd.DataFrame(data, columns=['ID', 'Title', 'Author Name', 'Description', 'Score', 'Number_of_comments', 'Number_of_reports', 'Created_at', 'Subreddit', 'Subreddit_Subscribers', 'Upvote_ratio', 'Post_URL'])"
   ]
  },
  {
   "cell_type": "code",
   "execution_count": 32,
   "id": "3cb45ec8",
   "metadata": {},
   "outputs": [
    {
     "data": {
      "text/html": [
       "<div>\n",
       "<style scoped>\n",
       "    .dataframe tbody tr th:only-of-type {\n",
       "        vertical-align: middle;\n",
       "    }\n",
       "\n",
       "    .dataframe tbody tr th {\n",
       "        vertical-align: top;\n",
       "    }\n",
       "\n",
       "    .dataframe thead th {\n",
       "        text-align: right;\n",
       "    }\n",
       "</style>\n",
       "<table border=\"1\" class=\"dataframe\">\n",
       "  <thead>\n",
       "    <tr style=\"text-align: right;\">\n",
       "      <th></th>\n",
       "      <th>ID</th>\n",
       "      <th>Title</th>\n",
       "      <th>Author Name</th>\n",
       "      <th>Description</th>\n",
       "      <th>Score</th>\n",
       "      <th>Number_of_comments</th>\n",
       "      <th>Number_of_reports</th>\n",
       "      <th>Created_at</th>\n",
       "      <th>Subreddit</th>\n",
       "      <th>Subreddit_Subscribers</th>\n",
       "      <th>Upvote_ratio</th>\n",
       "      <th>Post_URL</th>\n",
       "    </tr>\n",
       "  </thead>\n",
       "  <tbody>\n",
       "    <tr>\n",
       "      <th>0</th>\n",
       "      <td>haucpf</td>\n",
       "      <td>I’ve found a few funny memories during lockdow...</td>\n",
       "      <td>ReallyRickAstley</td>\n",
       "      <td></td>\n",
       "      <td>438830</td>\n",
       "      <td>19116</td>\n",
       "      <td>None</td>\n",
       "      <td>1.592411e+09</td>\n",
       "      <td>pics</td>\n",
       "      <td>29512386</td>\n",
       "      <td>0.99</td>\n",
       "      <td>https://i.redd.it/f58v4g8mwh551.jpg</td>\n",
       "    </tr>\n",
       "    <tr>\n",
       "      <th>1</th>\n",
       "      <td>l8rf4k</td>\n",
       "      <td>Times Square right now</td>\n",
       "      <td>SomeGuyInDeutschland</td>\n",
       "      <td></td>\n",
       "      <td>470770</td>\n",
       "      <td>13741</td>\n",
       "      <td>None</td>\n",
       "      <td>1.612030e+09</td>\n",
       "      <td>wallstreetbets</td>\n",
       "      <td>13045211</td>\n",
       "      <td>0.99</td>\n",
       "      <td>https://v.redd.it/x64z70f7eie61</td>\n",
       "    </tr>\n",
       "    <tr>\n",
       "      <th>2</th>\n",
       "      <td>jptqj9</td>\n",
       "      <td>Joe Biden elected president of the United States</td>\n",
       "      <td>throwawaynumber53</td>\n",
       "      <td></td>\n",
       "      <td>365117</td>\n",
       "      <td>28593</td>\n",
       "      <td>None</td>\n",
       "      <td>1.604767e+09</td>\n",
       "      <td>news</td>\n",
       "      <td>25436395</td>\n",
       "      <td>0.88</td>\n",
       "      <td>https://apnews.com/article/election-2020-joe-b...</td>\n",
       "    </tr>\n",
       "    <tr>\n",
       "      <th>3</th>\n",
       "      <td>62sjuh</td>\n",
       "      <td>The Senate. Upvote this so that people see it ...</td>\n",
       "      <td>serventofgaben</td>\n",
       "      <td></td>\n",
       "      <td>412254</td>\n",
       "      <td>5027</td>\n",
       "      <td>None</td>\n",
       "      <td>1.491051e+09</td>\n",
       "      <td>movies</td>\n",
       "      <td>29620610</td>\n",
       "      <td>0.97</td>\n",
       "      <td>http://i.imgur.com/ChYwfMq.jpg</td>\n",
       "    </tr>\n",
       "    <tr>\n",
       "      <th>4</th>\n",
       "      <td>7mjw12</td>\n",
       "      <td>My cab driver tonight was so excited to share ...</td>\n",
       "      <td>the_Diva</td>\n",
       "      <td></td>\n",
       "      <td>308583</td>\n",
       "      <td>2462</td>\n",
       "      <td>None</td>\n",
       "      <td>1.514430e+09</td>\n",
       "      <td>funny</td>\n",
       "      <td>44598342</td>\n",
       "      <td>0.97</td>\n",
       "      <td>https://i.redd.it/tojcmbvjwk601.jpg</td>\n",
       "    </tr>\n",
       "    <tr>\n",
       "      <th>...</th>\n",
       "      <td>...</td>\n",
       "      <td>...</td>\n",
       "      <td>...</td>\n",
       "      <td>...</td>\n",
       "      <td>...</td>\n",
       "      <td>...</td>\n",
       "      <td>...</td>\n",
       "      <td>...</td>\n",
       "      <td>...</td>\n",
       "      <td>...</td>\n",
       "      <td>...</td>\n",
       "      <td>...</td>\n",
       "    </tr>\n",
       "    <tr>\n",
       "      <th>345</th>\n",
       "      <td>le3n2o</td>\n",
       "      <td>Making chocolate from scratch</td>\n",
       "      <td>cyan1618</td>\n",
       "      <td></td>\n",
       "      <td>185758</td>\n",
       "      <td>3254</td>\n",
       "      <td>None</td>\n",
       "      <td>1.612637e+09</td>\n",
       "      <td>interestingasfuck</td>\n",
       "      <td>10695007</td>\n",
       "      <td>0.97</td>\n",
       "      <td>https://i.imgur.com/xSlkPHF.gifv</td>\n",
       "    </tr>\n",
       "    <tr>\n",
       "      <th>346</th>\n",
       "      <td>jz9cf6</td>\n",
       "      <td>Didn’t think about that</td>\n",
       "      <td>minorthreat1000</td>\n",
       "      <td></td>\n",
       "      <td>177353</td>\n",
       "      <td>891</td>\n",
       "      <td>None</td>\n",
       "      <td>1.606100e+09</td>\n",
       "      <td>memes</td>\n",
       "      <td>22229668</td>\n",
       "      <td>0.97</td>\n",
       "      <td>https://i.redd.it/yw52evjtlw061.jpg</td>\n",
       "    </tr>\n",
       "    <tr>\n",
       "      <th>347</th>\n",
       "      <td>l6uedb</td>\n",
       "      <td>I'm the captain now</td>\n",
       "      <td>EpicWizard123</td>\n",
       "      <td></td>\n",
       "      <td>177602</td>\n",
       "      <td>1028</td>\n",
       "      <td>None</td>\n",
       "      <td>1.611833e+09</td>\n",
       "      <td>memes</td>\n",
       "      <td>22229668</td>\n",
       "      <td>0.96</td>\n",
       "      <td>https://i.redd.it/ejfv5dfq52e61.gif</td>\n",
       "    </tr>\n",
       "    <tr>\n",
       "      <th>348</th>\n",
       "      <td>i4hp2z</td>\n",
       "      <td>[ ]YES [X]NO</td>\n",
       "      <td>Amateurlapse</td>\n",
       "      <td></td>\n",
       "      <td>176037</td>\n",
       "      <td>1732</td>\n",
       "      <td>None</td>\n",
       "      <td>1.596675e+09</td>\n",
       "      <td>WatchPeopleDieInside</td>\n",
       "      <td>4977981</td>\n",
       "      <td>0.96</td>\n",
       "      <td>https://v.redd.it/0doeyme34af51</td>\n",
       "    </tr>\n",
       "    <tr>\n",
       "      <th>349</th>\n",
       "      <td>lb8jtk</td>\n",
       "      <td>WSB right now</td>\n",
       "      <td>string_beans</td>\n",
       "      <td></td>\n",
       "      <td>172542</td>\n",
       "      <td>4156</td>\n",
       "      <td>None</td>\n",
       "      <td>1.612305e+09</td>\n",
       "      <td>wallstreetbets</td>\n",
       "      <td>13045211</td>\n",
       "      <td>0.94</td>\n",
       "      <td>https://i.redd.it/ptv7nhxy35f61.png</td>\n",
       "    </tr>\n",
       "  </tbody>\n",
       "</table>\n",
       "<p>350 rows × 12 columns</p>\n",
       "</div>"
      ],
      "text/plain": [
       "         ID                                              Title  \\\n",
       "0    haucpf  I’ve found a few funny memories during lockdow...   \n",
       "1    l8rf4k                             Times Square right now   \n",
       "2    jptqj9   Joe Biden elected president of the United States   \n",
       "3    62sjuh  The Senate. Upvote this so that people see it ...   \n",
       "4    7mjw12  My cab driver tonight was so excited to share ...   \n",
       "..      ...                                                ...   \n",
       "345  le3n2o                      Making chocolate from scratch   \n",
       "346  jz9cf6                            Didn’t think about that   \n",
       "347  l6uedb                                I'm the captain now   \n",
       "348  i4hp2z                                       [ ]YES [X]NO   \n",
       "349  lb8jtk                                      WSB right now   \n",
       "\n",
       "              Author Name Description   Score  Number_of_comments  \\\n",
       "0        ReallyRickAstley              438830               19116   \n",
       "1    SomeGuyInDeutschland              470770               13741   \n",
       "2       throwawaynumber53              365117               28593   \n",
       "3          serventofgaben              412254                5027   \n",
       "4                the_Diva              308583                2462   \n",
       "..                    ...         ...     ...                 ...   \n",
       "345              cyan1618              185758                3254   \n",
       "346       minorthreat1000              177353                 891   \n",
       "347         EpicWizard123              177602                1028   \n",
       "348          Amateurlapse              176037                1732   \n",
       "349          string_beans              172542                4156   \n",
       "\n",
       "    Number_of_reports    Created_at             Subreddit  \\\n",
       "0                None  1.592411e+09                  pics   \n",
       "1                None  1.612030e+09        wallstreetbets   \n",
       "2                None  1.604767e+09                  news   \n",
       "3                None  1.491051e+09                movies   \n",
       "4                None  1.514430e+09                 funny   \n",
       "..                ...           ...                   ...   \n",
       "345              None  1.612637e+09     interestingasfuck   \n",
       "346              None  1.606100e+09                 memes   \n",
       "347              None  1.611833e+09                 memes   \n",
       "348              None  1.596675e+09  WatchPeopleDieInside   \n",
       "349              None  1.612305e+09        wallstreetbets   \n",
       "\n",
       "     Subreddit_Subscribers  Upvote_ratio  \\\n",
       "0                 29512386          0.99   \n",
       "1                 13045211          0.99   \n",
       "2                 25436395          0.88   \n",
       "3                 29620610          0.97   \n",
       "4                 44598342          0.97   \n",
       "..                     ...           ...   \n",
       "345               10695007          0.97   \n",
       "346               22229668          0.97   \n",
       "347               22229668          0.96   \n",
       "348                4977981          0.96   \n",
       "349               13045211          0.94   \n",
       "\n",
       "                                              Post_URL  \n",
       "0                  https://i.redd.it/f58v4g8mwh551.jpg  \n",
       "1                      https://v.redd.it/x64z70f7eie61  \n",
       "2    https://apnews.com/article/election-2020-joe-b...  \n",
       "3                       http://i.imgur.com/ChYwfMq.jpg  \n",
       "4                  https://i.redd.it/tojcmbvjwk601.jpg  \n",
       "..                                                 ...  \n",
       "345                   https://i.imgur.com/xSlkPHF.gifv  \n",
       "346                https://i.redd.it/yw52evjtlw061.jpg  \n",
       "347                https://i.redd.it/ejfv5dfq52e61.gif  \n",
       "348                    https://v.redd.it/0doeyme34af51  \n",
       "349                https://i.redd.it/ptv7nhxy35f61.png  \n",
       "\n",
       "[350 rows x 12 columns]"
      ]
     },
     "execution_count": 32,
     "metadata": {},
     "output_type": "execute_result"
    }
   ],
   "source": [
    "reddit_posts_df"
   ]
  },
  {
   "cell_type": "code",
   "execution_count": 33,
   "id": "d22280ae",
   "metadata": {},
   "outputs": [],
   "source": [
    "import datetime as dt\n",
    "def get_date(created):\n",
    "    return dt.datetime.fromtimestamp(created)\n",
    "\n",
    "# converting to datetime format\n",
    "reddit_posts_df['Created_at'] = reddit_posts_df['Created_at'].apply(get_date)"
   ]
  },
  {
   "cell_type": "code",
   "execution_count": 34,
   "id": "472df69e",
   "metadata": {},
   "outputs": [
    {
     "data": {
      "text/html": [
       "<div>\n",
       "<style scoped>\n",
       "    .dataframe tbody tr th:only-of-type {\n",
       "        vertical-align: middle;\n",
       "    }\n",
       "\n",
       "    .dataframe tbody tr th {\n",
       "        vertical-align: top;\n",
       "    }\n",
       "\n",
       "    .dataframe thead th {\n",
       "        text-align: right;\n",
       "    }\n",
       "</style>\n",
       "<table border=\"1\" class=\"dataframe\">\n",
       "  <thead>\n",
       "    <tr style=\"text-align: right;\">\n",
       "      <th></th>\n",
       "      <th>ID</th>\n",
       "      <th>Title</th>\n",
       "      <th>Author Name</th>\n",
       "      <th>Description</th>\n",
       "      <th>Score</th>\n",
       "      <th>Number_of_comments</th>\n",
       "      <th>Number_of_reports</th>\n",
       "      <th>Created_at</th>\n",
       "      <th>Subreddit</th>\n",
       "      <th>Subreddit_Subscribers</th>\n",
       "      <th>Upvote_ratio</th>\n",
       "      <th>Post_URL</th>\n",
       "    </tr>\n",
       "  </thead>\n",
       "  <tbody>\n",
       "    <tr>\n",
       "      <th>0</th>\n",
       "      <td>haucpf</td>\n",
       "      <td>I’ve found a few funny memories during lockdow...</td>\n",
       "      <td>ReallyRickAstley</td>\n",
       "      <td></td>\n",
       "      <td>438830</td>\n",
       "      <td>19116</td>\n",
       "      <td>None</td>\n",
       "      <td>2020-06-17 11:17:27</td>\n",
       "      <td>pics</td>\n",
       "      <td>29512386</td>\n",
       "      <td>0.99</td>\n",
       "      <td>https://i.redd.it/f58v4g8mwh551.jpg</td>\n",
       "    </tr>\n",
       "    <tr>\n",
       "      <th>1</th>\n",
       "      <td>l8rf4k</td>\n",
       "      <td>Times Square right now</td>\n",
       "      <td>SomeGuyInDeutschland</td>\n",
       "      <td></td>\n",
       "      <td>470770</td>\n",
       "      <td>13741</td>\n",
       "      <td>None</td>\n",
       "      <td>2021-01-30 12:00:38</td>\n",
       "      <td>wallstreetbets</td>\n",
       "      <td>13045211</td>\n",
       "      <td>0.99</td>\n",
       "      <td>https://v.redd.it/x64z70f7eie61</td>\n",
       "    </tr>\n",
       "    <tr>\n",
       "      <th>2</th>\n",
       "      <td>jptqj9</td>\n",
       "      <td>Joe Biden elected president of the United States</td>\n",
       "      <td>throwawaynumber53</td>\n",
       "      <td></td>\n",
       "      <td>365117</td>\n",
       "      <td>28593</td>\n",
       "      <td>None</td>\n",
       "      <td>2020-11-07 10:28:37</td>\n",
       "      <td>news</td>\n",
       "      <td>25436395</td>\n",
       "      <td>0.88</td>\n",
       "      <td>https://apnews.com/article/election-2020-joe-b...</td>\n",
       "    </tr>\n",
       "    <tr>\n",
       "      <th>3</th>\n",
       "      <td>62sjuh</td>\n",
       "      <td>The Senate. Upvote this so that people see it ...</td>\n",
       "      <td>serventofgaben</td>\n",
       "      <td></td>\n",
       "      <td>412254</td>\n",
       "      <td>5027</td>\n",
       "      <td>None</td>\n",
       "      <td>2017-04-01 07:57:54</td>\n",
       "      <td>movies</td>\n",
       "      <td>29620610</td>\n",
       "      <td>0.97</td>\n",
       "      <td>http://i.imgur.com/ChYwfMq.jpg</td>\n",
       "    </tr>\n",
       "    <tr>\n",
       "      <th>4</th>\n",
       "      <td>7mjw12</td>\n",
       "      <td>My cab driver tonight was so excited to share ...</td>\n",
       "      <td>the_Diva</td>\n",
       "      <td></td>\n",
       "      <td>308583</td>\n",
       "      <td>2462</td>\n",
       "      <td>None</td>\n",
       "      <td>2017-12-27 21:00:55</td>\n",
       "      <td>funny</td>\n",
       "      <td>44598342</td>\n",
       "      <td>0.97</td>\n",
       "      <td>https://i.redd.it/tojcmbvjwk601.jpg</td>\n",
       "    </tr>\n",
       "  </tbody>\n",
       "</table>\n",
       "</div>"
      ],
      "text/plain": [
       "       ID                                              Title  \\\n",
       "0  haucpf  I’ve found a few funny memories during lockdow...   \n",
       "1  l8rf4k                             Times Square right now   \n",
       "2  jptqj9   Joe Biden elected president of the United States   \n",
       "3  62sjuh  The Senate. Upvote this so that people see it ...   \n",
       "4  7mjw12  My cab driver tonight was so excited to share ...   \n",
       "\n",
       "            Author Name Description   Score  Number_of_comments  \\\n",
       "0      ReallyRickAstley              438830               19116   \n",
       "1  SomeGuyInDeutschland              470770               13741   \n",
       "2     throwawaynumber53              365117               28593   \n",
       "3        serventofgaben              412254                5027   \n",
       "4              the_Diva              308583                2462   \n",
       "\n",
       "  Number_of_reports          Created_at       Subreddit  \\\n",
       "0              None 2020-06-17 11:17:27            pics   \n",
       "1              None 2021-01-30 12:00:38  wallstreetbets   \n",
       "2              None 2020-11-07 10:28:37            news   \n",
       "3              None 2017-04-01 07:57:54          movies   \n",
       "4              None 2017-12-27 21:00:55           funny   \n",
       "\n",
       "   Subreddit_Subscribers  Upvote_ratio  \\\n",
       "0               29512386          0.99   \n",
       "1               13045211          0.99   \n",
       "2               25436395          0.88   \n",
       "3               29620610          0.97   \n",
       "4               44598342          0.97   \n",
       "\n",
       "                                            Post_URL  \n",
       "0                https://i.redd.it/f58v4g8mwh551.jpg  \n",
       "1                    https://v.redd.it/x64z70f7eie61  \n",
       "2  https://apnews.com/article/election-2020-joe-b...  \n",
       "3                     http://i.imgur.com/ChYwfMq.jpg  \n",
       "4                https://i.redd.it/tojcmbvjwk601.jpg  "
      ]
     },
     "execution_count": 34,
     "metadata": {},
     "output_type": "execute_result"
    }
   ],
   "source": [
    "reddit_posts_df.head()"
   ]
  },
  {
   "cell_type": "code",
   "execution_count": 35,
   "id": "5d9428d2",
   "metadata": {},
   "outputs": [],
   "source": [
    "# To calculate downvotes ratio\n",
    "reddit_posts_df['Downvote_ratio'] = 1 - reddit_posts_df['Upvote_ratio']"
   ]
  },
  {
   "cell_type": "code",
   "execution_count": 36,
   "id": "ada4b04d",
   "metadata": {},
   "outputs": [
    {
     "data": {
      "text/html": [
       "<div>\n",
       "<style scoped>\n",
       "    .dataframe tbody tr th:only-of-type {\n",
       "        vertical-align: middle;\n",
       "    }\n",
       "\n",
       "    .dataframe tbody tr th {\n",
       "        vertical-align: top;\n",
       "    }\n",
       "\n",
       "    .dataframe thead th {\n",
       "        text-align: right;\n",
       "    }\n",
       "</style>\n",
       "<table border=\"1\" class=\"dataframe\">\n",
       "  <thead>\n",
       "    <tr style=\"text-align: right;\">\n",
       "      <th></th>\n",
       "      <th>ID</th>\n",
       "      <th>Title</th>\n",
       "      <th>Author Name</th>\n",
       "      <th>Description</th>\n",
       "      <th>Score</th>\n",
       "      <th>Number_of_comments</th>\n",
       "      <th>Number_of_reports</th>\n",
       "      <th>Created_at</th>\n",
       "      <th>Subreddit</th>\n",
       "      <th>Subreddit_Subscribers</th>\n",
       "      <th>Upvote_ratio</th>\n",
       "      <th>Post_URL</th>\n",
       "      <th>Downvote_ratio</th>\n",
       "    </tr>\n",
       "  </thead>\n",
       "  <tbody>\n",
       "    <tr>\n",
       "      <th>0</th>\n",
       "      <td>haucpf</td>\n",
       "      <td>I’ve found a few funny memories during lockdow...</td>\n",
       "      <td>ReallyRickAstley</td>\n",
       "      <td></td>\n",
       "      <td>438830</td>\n",
       "      <td>19116</td>\n",
       "      <td>None</td>\n",
       "      <td>2020-06-17 11:17:27</td>\n",
       "      <td>pics</td>\n",
       "      <td>29512386</td>\n",
       "      <td>0.99</td>\n",
       "      <td>https://i.redd.it/f58v4g8mwh551.jpg</td>\n",
       "      <td>0.01</td>\n",
       "    </tr>\n",
       "    <tr>\n",
       "      <th>1</th>\n",
       "      <td>l8rf4k</td>\n",
       "      <td>Times Square right now</td>\n",
       "      <td>SomeGuyInDeutschland</td>\n",
       "      <td></td>\n",
       "      <td>470770</td>\n",
       "      <td>13741</td>\n",
       "      <td>None</td>\n",
       "      <td>2021-01-30 12:00:38</td>\n",
       "      <td>wallstreetbets</td>\n",
       "      <td>13045211</td>\n",
       "      <td>0.99</td>\n",
       "      <td>https://v.redd.it/x64z70f7eie61</td>\n",
       "      <td>0.01</td>\n",
       "    </tr>\n",
       "    <tr>\n",
       "      <th>2</th>\n",
       "      <td>jptqj9</td>\n",
       "      <td>Joe Biden elected president of the United States</td>\n",
       "      <td>throwawaynumber53</td>\n",
       "      <td></td>\n",
       "      <td>365117</td>\n",
       "      <td>28593</td>\n",
       "      <td>None</td>\n",
       "      <td>2020-11-07 10:28:37</td>\n",
       "      <td>news</td>\n",
       "      <td>25436395</td>\n",
       "      <td>0.88</td>\n",
       "      <td>https://apnews.com/article/election-2020-joe-b...</td>\n",
       "      <td>0.12</td>\n",
       "    </tr>\n",
       "    <tr>\n",
       "      <th>3</th>\n",
       "      <td>62sjuh</td>\n",
       "      <td>The Senate. Upvote this so that people see it ...</td>\n",
       "      <td>serventofgaben</td>\n",
       "      <td></td>\n",
       "      <td>412254</td>\n",
       "      <td>5027</td>\n",
       "      <td>None</td>\n",
       "      <td>2017-04-01 07:57:54</td>\n",
       "      <td>movies</td>\n",
       "      <td>29620610</td>\n",
       "      <td>0.97</td>\n",
       "      <td>http://i.imgur.com/ChYwfMq.jpg</td>\n",
       "      <td>0.03</td>\n",
       "    </tr>\n",
       "    <tr>\n",
       "      <th>4</th>\n",
       "      <td>7mjw12</td>\n",
       "      <td>My cab driver tonight was so excited to share ...</td>\n",
       "      <td>the_Diva</td>\n",
       "      <td></td>\n",
       "      <td>308583</td>\n",
       "      <td>2462</td>\n",
       "      <td>None</td>\n",
       "      <td>2017-12-27 21:00:55</td>\n",
       "      <td>funny</td>\n",
       "      <td>44598342</td>\n",
       "      <td>0.97</td>\n",
       "      <td>https://i.redd.it/tojcmbvjwk601.jpg</td>\n",
       "      <td>0.03</td>\n",
       "    </tr>\n",
       "  </tbody>\n",
       "</table>\n",
       "</div>"
      ],
      "text/plain": [
       "       ID                                              Title  \\\n",
       "0  haucpf  I’ve found a few funny memories during lockdow...   \n",
       "1  l8rf4k                             Times Square right now   \n",
       "2  jptqj9   Joe Biden elected president of the United States   \n",
       "3  62sjuh  The Senate. Upvote this so that people see it ...   \n",
       "4  7mjw12  My cab driver tonight was so excited to share ...   \n",
       "\n",
       "            Author Name Description   Score  Number_of_comments  \\\n",
       "0      ReallyRickAstley              438830               19116   \n",
       "1  SomeGuyInDeutschland              470770               13741   \n",
       "2     throwawaynumber53              365117               28593   \n",
       "3        serventofgaben              412254                5027   \n",
       "4              the_Diva              308583                2462   \n",
       "\n",
       "  Number_of_reports          Created_at       Subreddit  \\\n",
       "0              None 2020-06-17 11:17:27            pics   \n",
       "1              None 2021-01-30 12:00:38  wallstreetbets   \n",
       "2              None 2020-11-07 10:28:37            news   \n",
       "3              None 2017-04-01 07:57:54          movies   \n",
       "4              None 2017-12-27 21:00:55           funny   \n",
       "\n",
       "   Subreddit_Subscribers  Upvote_ratio  \\\n",
       "0               29512386          0.99   \n",
       "1               13045211          0.99   \n",
       "2               25436395          0.88   \n",
       "3               29620610          0.97   \n",
       "4               44598342          0.97   \n",
       "\n",
       "                                            Post_URL  Downvote_ratio  \n",
       "0                https://i.redd.it/f58v4g8mwh551.jpg            0.01  \n",
       "1                    https://v.redd.it/x64z70f7eie61            0.01  \n",
       "2  https://apnews.com/article/election-2020-joe-b...            0.12  \n",
       "3                     http://i.imgur.com/ChYwfMq.jpg            0.03  \n",
       "4                https://i.redd.it/tojcmbvjwk601.jpg            0.03  "
      ]
     },
     "execution_count": 36,
     "metadata": {},
     "output_type": "execute_result"
    }
   ],
   "source": [
    "reddit_posts_df.head()"
   ]
  },
  {
   "cell_type": "code",
   "execution_count": 37,
   "id": "be2b97f7",
   "metadata": {},
   "outputs": [
    {
     "data": {
      "text/plain": [
       "(350, 13)"
      ]
     },
     "execution_count": 37,
     "metadata": {},
     "output_type": "execute_result"
    }
   ],
   "source": [
    "reddit_posts_df.shape"
   ]
  },
  {
   "cell_type": "code",
   "execution_count": 38,
   "id": "a85798f3",
   "metadata": {},
   "outputs": [],
   "source": [
    "# Loading the data into csv format\n",
    "reddit_posts_df.to_csv(\"Reddit Data Extraction.csv\")"
   ]
  },
  {
   "cell_type": "markdown",
   "id": "d7a09364",
   "metadata": {},
   "source": [
    "## Visualizing Reddit DATA\n",
    "<div style=\"text-align:right\"><a href=\"#Table-of-Contents\">[toc]</a></div>"
   ]
  },
  {
   "cell_type": "markdown",
   "id": "da5de5a8",
   "metadata": {},
   "source": [
    "### Scatter Plot\n",
    "<div style=\"text-align:right\"><a href=\"#Table-of-Contents\">[toc]</a></div>\n",
    "\n",
    "Here we are visualizing a scatter plot, based on No_Of_Comments and Score"
   ]
  },
  {
   "cell_type": "code",
   "execution_count": 39,
   "id": "84ef4fed",
   "metadata": {},
   "outputs": [
    {
     "data": {
      "image/png": "[encoded data removed]",
      "text/plain": [
       "<Figure size 432x288 with 1 Axes>"
      ]
     },
     "metadata": {
      "needs_background": "light"
     },
     "output_type": "display_data"
    }
   ],
   "source": [
    "# plotting scatter plot for Score vs No_of_comments\n",
    "\n",
    "Y = reddit_posts_df['Score']\n",
    "X = reddit_posts_df['Number_of_comments']\n",
    "\n",
    "plt.scatter(X, Y)\n",
    "plt.xlabel(\"Number_Of_Comments\")\n",
    "plt.ylabel(\"Score\")\n",
    "plt.title(\"Reddit Data Visualization\")\n",
    "plt.show()"
   ]
  },
  {
   "cell_type": "markdown",
   "id": "e12c5fd4",
   "metadata": {},
   "source": [
    "### Bar Chart\n",
    "<div style=\"text-align:right\"><a href=\"#Table-of-Contents\">[toc]</a></div>\n",
    "\n",
    "Here we are visualizing a Bar Chart, based on Authors post's upvote and downvote ratio."
   ]
  },
  {
   "cell_type": "code",
   "execution_count": 40,
   "id": "24bdcf21",
   "metadata": {},
   "outputs": [
    {
     "data": {
      "image/png": "[encoded data removed]",
      "text/plain": [
       "<Figure size 792x360 with 1 Axes>"
      ]
     },
     "metadata": {
      "needs_background": "light"
     },
     "output_type": "display_data"
    }
   ],
   "source": [
    "# plotting bar graph for Name vs (Upvote ratio, DownVote ratio) for top 5 data\n",
    "\n",
    "X = list(reddit_posts_df['Author Name'].head(5))\n",
    "Y, Z = reddit_posts_df['Upvote_ratio'].head(5), reddit_posts_df['Downvote_ratio'].head(5)\n",
    "\n",
    "city=X\n",
    "Ratios=['Upvote_ratio','Downvote_ratio']\n",
    "pos = np.arange(len(X))\n",
    "bar_width = 0.35\n",
    "\n",
    "plt.figure(figsize=(11,5))\n",
    "plt.bar(pos, Y, bar_width, color='green', edgecolor='black')\n",
    "plt.bar(pos+bar_width, Z, bar_width,color='pink', edgecolor='black')\n",
    "plt.xticks(pos, X)\n",
    "plt.xlabel('Authors', fontsize=16)\n",
    "plt.ylabel('UpVotes and DownVotes', fontsize=12)\n",
    "plt.title('Reddit Data - Performance',fontsize=15)\n",
    "plt.legend(Ratios, loc=2)\n",
    "plt.show()"
   ]
  },
  {
   "cell_type": "markdown",
   "id": "4dbe15de",
   "metadata": {},
   "source": [
    "### Pie Chart\n",
    "<div style=\"text-align:right\"><a href=\"#Table-of-Contents\">[toc]</a></div>\n",
    "\n",
    "Here we are visualzing a `Pie Chart`, by grouping `Subreddit_Topics` and `No_Of_Subscribers` for each SubRedditTopic to display, the best trending topics."
   ]
  },
  {
   "cell_type": "code",
   "execution_count": 41,
   "id": "fae82756",
   "metadata": {},
   "outputs": [],
   "source": [
    "subred_grp = reddit_posts_df.groupby('Subreddit').agg({'Subreddit_Subscribers': 'sum'}).rename(columns = {'Subreddit_Subscribers': 'total_Subscribers'})"
   ]
  },
  {
   "cell_type": "code",
   "execution_count": 42,
   "id": "06ea2741",
   "metadata": {},
   "outputs": [
    {
     "data": {
      "text/html": [
       "<div>\n",
       "<style scoped>\n",
       "    .dataframe tbody tr th:only-of-type {\n",
       "        vertical-align: middle;\n",
       "    }\n",
       "\n",
       "    .dataframe tbody tr th {\n",
       "        vertical-align: top;\n",
       "    }\n",
       "\n",
       "    .dataframe thead th {\n",
       "        text-align: right;\n",
       "    }\n",
       "</style>\n",
       "<table border=\"1\" class=\"dataframe\">\n",
       "  <thead>\n",
       "    <tr style=\"text-align: right;\">\n",
       "      <th></th>\n",
       "      <th>total_Subscribers</th>\n",
       "    </tr>\n",
       "    <tr>\n",
       "      <th>Subreddit</th>\n",
       "      <th></th>\n",
       "    </tr>\n",
       "  </thead>\n",
       "  <tbody>\n",
       "    <tr>\n",
       "      <th>AskReddit</th>\n",
       "      <td>229786573</td>\n",
       "    </tr>\n",
       "    <tr>\n",
       "      <th>IAmA</th>\n",
       "      <td>44691334</td>\n",
       "    </tr>\n",
       "    <tr>\n",
       "      <th>JusticeServed</th>\n",
       "      <td>1986611</td>\n",
       "    </tr>\n",
       "    <tr>\n",
       "      <th>LeopardsAteMyFace</th>\n",
       "      <td>900111</td>\n",
       "    </tr>\n",
       "    <tr>\n",
       "      <th>MadeMeSmile</th>\n",
       "      <td>13774244</td>\n",
       "    </tr>\n",
       "  </tbody>\n",
       "</table>\n",
       "</div>"
      ],
      "text/plain": [
       "                   total_Subscribers\n",
       "Subreddit                           \n",
       "AskReddit                  229786573\n",
       "IAmA                        44691334\n",
       "JusticeServed                1986611\n",
       "LeopardsAteMyFace             900111\n",
       "MadeMeSmile                 13774244"
      ]
     },
     "execution_count": 42,
     "metadata": {},
     "output_type": "execute_result"
    }
   ],
   "source": [
    "subred_grp.head()"
   ]
  },
  {
   "cell_type": "code",
   "execution_count": 43,
   "id": "533b5be8",
   "metadata": {},
   "outputs": [],
   "source": [
    "subred_grp.sort_values('total_Subscribers', ascending=False, inplace=True)"
   ]
  },
  {
   "cell_type": "code",
   "execution_count": 44,
   "id": "de558342",
   "metadata": {},
   "outputs": [
    {
     "data": {
      "text/html": [
       "<div>\n",
       "<style scoped>\n",
       "    .dataframe tbody tr th:only-of-type {\n",
       "        vertical-align: middle;\n",
       "    }\n",
       "\n",
       "    .dataframe tbody tr th {\n",
       "        vertical-align: top;\n",
       "    }\n",
       "\n",
       "    .dataframe thead th {\n",
       "        text-align: right;\n",
       "    }\n",
       "</style>\n",
       "<table border=\"1\" class=\"dataframe\">\n",
       "  <thead>\n",
       "    <tr style=\"text-align: right;\">\n",
       "      <th></th>\n",
       "      <th>total_Subscribers</th>\n",
       "    </tr>\n",
       "    <tr>\n",
       "      <th>Subreddit</th>\n",
       "      <th></th>\n",
       "    </tr>\n",
       "  </thead>\n",
       "  <tbody>\n",
       "    <tr>\n",
       "      <th>pics</th>\n",
       "      <td>2331478494</td>\n",
       "    </tr>\n",
       "    <tr>\n",
       "      <th>memes</th>\n",
       "      <td>1600535703</td>\n",
       "    </tr>\n",
       "    <tr>\n",
       "      <th>funny</th>\n",
       "      <td>1471745358</td>\n",
       "    </tr>\n",
       "    <tr>\n",
       "      <th>aww</th>\n",
       "      <td>587661266</td>\n",
       "    </tr>\n",
       "    <tr>\n",
       "      <th>gaming</th>\n",
       "      <td>421265007</td>\n",
       "    </tr>\n",
       "  </tbody>\n",
       "</table>\n",
       "</div>"
      ],
      "text/plain": [
       "           total_Subscribers\n",
       "Subreddit                   \n",
       "pics              2331478494\n",
       "memes             1600535703\n",
       "funny             1471745358\n",
       "aww                587661266\n",
       "gaming             421265007"
      ]
     },
     "execution_count": 44,
     "metadata": {},
     "output_type": "execute_result"
    }
   ],
   "source": [
    "subred_5 = subred_grp.head(5)\n",
    "subred_5"
   ]
  },
  {
   "cell_type": "code",
   "execution_count": 45,
   "id": "8e053819",
   "metadata": {},
   "outputs": [
    {
     "data": {
      "image/png": "[encoded data removed]",
      "text/plain": [
       "<Figure size 648x504 with 1 Axes>"
      ]
     },
     "metadata": {},
     "output_type": "display_data"
    }
   ],
   "source": [
    "def func(pct, allvals):\n",
    "    absolute = int(pct/100.*np.sum(allvals))\n",
    "    return \"{:.1f}%\\n({:d})\".format(pct, absolute)\n",
    "\n",
    "fig, ax = plt.subplots(figsize=(9, 7), subplot_kw=dict(aspect=\"equal\"))\n",
    "\n",
    "Subreddit_Topics = list(subred_5.index)\n",
    "Subscribers = list(subred_5['total_Subscribers'])\n",
    "\n",
    "popln_pct, texts, autotexts = ax.pie(Subscribers, autopct=lambda pct: func(pct, Subscribers),\n",
    "                                  textprops=dict(color=\"w\"))\n",
    "\n",
    "ax.legend(popln_pct, Subreddit_Topics,\n",
    "          title=\"Reddit Topics\",\n",
    "          loc=\"lower left\",\n",
    "          bbox_to_anchor=(1, 0, 0.5, 1))\n",
    "\n",
    "plt.setp(autotexts, size=9, weight=\"bold\")\n",
    "\n",
    "ax.set_title(\"Best topics happening in Reddit\")\n",
    "\n",
    "plt.show()"
   ]
  },
  {
   "cell_type": "markdown",
   "id": "65a719cf",
   "metadata": {},
   "source": [
    "### Conclusion\n",
    "<div style=\"text-align:right\"><a href=\"#Table-of-Contents\">[toc]</a></div>\n",
    "\n",
    "* Praw is the most efficient way to scrape data from any subreddit on reddit. <br> Also with the number of users,and the content(both quality and quantity) increasing , Reddit will be a powerhouse for any data analyst or a data scientist as they can accumulate data on any topic they want\n",
    "\n",
    "* With the help of `PRAW`, we can `Scrap` the `Reddit` website and also able to create the `RedditBot`.\n",
    "\n",
    "**Note** : For each row data, while fetching the data, each time, it calls the `Reddit`(PRAW) api, which makes it slower. Hence for faster data extraction, we can use info() function. For more information regarding it, see [here](https://praw.readthedocs.io/en/latest/code_overview/reddit_instance.html#praw.Reddit.info)"
   ]
  }
 ],
 "metadata": {
  "kernelspec": {
   "display_name": "Python 3 (ipykernel)",
   "language": "python",
   "name": "python3"
  },
  "language_info": {
   "codemirror_mode": {
    "name": "ipython",
    "version": 3
   },
   "file_extension": ".py",
   "mimetype": "text/x-python",
   "name": "python",
   "nbconvert_exporter": "python",
   "pygments_lexer": "ipython3",
   "version": "3.9.12"
  }
 },
 "nbformat": 4,
 "nbformat_minor": 5
}
